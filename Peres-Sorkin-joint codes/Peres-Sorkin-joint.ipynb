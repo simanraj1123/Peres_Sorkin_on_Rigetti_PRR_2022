{
 "cells": [
  {
   "cell_type": "code",
   "execution_count": 1,
   "metadata": {},
   "outputs": [],
   "source": [
    "import numpy as np, matplotlib.pyplot as plt, random, time, datetime\n",
    "from functools import lru_cache\n",
    "from pyquil import Program, get_qc\n",
    "from pyquil.gates import *\n",
    "import os, sys\n",
    "from pyquil.quilatom import quil_sin, quil_cos, Parameter\n",
    "from pyquil.quilbase import DefGate\n",
    "from pyquil.latex import display, to_latex\n",
    "# import Peres_helpers as hf\n",
    "import pickle\n",
    "from collections import Counter\n",
    "from scipy.optimize import curve_fit as cf\n",
    "sys.path.append('binomial_cython')\n",
    "from binomial import binomial_dist\n",
    "\n",
    "N_SHOTS = 10_000\n",
    "Z_SCORE = 3\n",
    "\n",
    "# Theoretical probabilities\n",
    "def p12(t1, f1, t2, f2):\n",
    "    res = np.cos(t1/2)*np.cos(t2/2)*np.exp(-1j*(f1+f2)/2)\n",
    "    res += np.cos(t1/2)*np.sin(t2/2)*np.exp(1j*(f2-f1)/2)\n",
    "    res = np.linalg.norm(res)\n",
    "    res = res**2/2\n",
    "\n",
    "    return res\n",
    "\n",
    "def p23(t1, f1, t2, f2):\n",
    "    res = np.cos(t1/2)*np.sin(t2/2)*np.exp(1j*(f2-f1)/2)\n",
    "    res += np.sin(t1/2)*np.cos(t2/2)*np.exp(-1j*(f2-f1)/2)\n",
    "    res = np.linalg.norm(res)\n",
    "    res = res**2/2\n",
    "\n",
    "    return res\n",
    "\n",
    "def p31(t1, f1, t2, f2):\n",
    "    res = np.cos(t1/2)*np.cos(t2/2)*np.exp(-1j*(f1+f2)/2)\n",
    "    res += np.sin(t1/2)*np.cos(t2/2)*np.exp(-1j*(f2-f1)/2)\n",
    "    res = np.linalg.norm(res)\n",
    "    res = res**2/2\n",
    "\n",
    "    return res\n",
    "\n",
    "def p1(t1, f1, t2, f2):\n",
    "    return (np.cos(t1/2)*np.cos(t2/2))**2\n",
    "\n",
    "def p2(t1, f1, t2, f2):\n",
    "    return (np.cos(t1/2)*np.sin(t2/2))**2\n",
    "\n",
    "def p3(t1, f1, t2, f2):\n",
    "    return (np.sin(t1/2)*np.cos(t2/2))**2\n",
    "\n",
    "def p4(t1, f1, t2, f2):\n",
    "    return (np.sin(t1/2)*np.sin(t2/2))**2\n",
    "\n",
    "def p123(t1, f1, t2, f2):\n",
    "    res = np.cos(t1/2)*np.cos(t2/2)*np.exp(-1j*(f1+f2)/2)\n",
    "    res += np.cos(t1/2)*np.sin(t2/2)*np.exp(1j*(f2-f1)/2)\n",
    "    res += np.sin(t1/2)*np.cos(t2/2)*np.exp(-1j*(f2-f1)/2)\n",
    "\n",
    "    res = np.linalg.norm(res)\n",
    "    res = res**2/3\n",
    "\n",
    "    return res\n",
    "\n",
    "# The circuit for constructing the product state and measuring in Bell basis.\n",
    "def circuit(qubit1, qubit2, config):\n",
    "    '''\n",
    "    Constructs the quantum circuit and returns it.\n",
    "    \n",
    "    Input:\n",
    "    qubit1: The id of qubit1\n",
    "    qubit2: The id of qubit2\n",
    "    config: Config is a string which states which basis to project the given state on. \n",
    "            It is a 4-digit binary number 'XXXX', where the left-most digit corresponds to '00'\n",
    "            and as we proceed towards the right it refers to '01', '10' and '11' in that order.\n",
    "            For example, if we want to project the state on 00+01 then the config will be '1100'.\n",
    "    \n",
    "    Output: PyQuil circuit object 'circ'\n",
    "    '''\n",
    "    # Initialising a pyquil circuit object\n",
    "    circ = Program()\n",
    "    \n",
    "    # Declaring variables for parametric compilation\n",
    "    c = circ.declare('ro', 'BIT', 2) # Stores the measurement outcomes.\n",
    "    theta = circ.declare('theta', 'REAL', 2) # The theta values for Ry gates to construct states\n",
    "    phi = circ.declare('phi', 'REAL', 2) # The phi values for Rz gates to construct states\n",
    "    \n",
    "    # Preparation of states.\n",
    "    # State in qubit 1\n",
    "    circ += RY(theta[0], qubit1)\n",
    "    circ += RZ(phi[0], qubit1)\n",
    "    \n",
    "    # State in qubit 2\n",
    "    circ += RY(theta[1], qubit2)\n",
    "    circ += RZ(phi[1], qubit2)\n",
    "    \n",
    "    # Different measurement bases\n",
    "    # For 00 + 01\n",
    "    if config == '1100':\n",
    "        circ += H(qubit2)\n",
    "        \n",
    "    # For 01 + 10\n",
    "    elif config == '0110':\n",
    "        circ += X(qubit1)\n",
    "        circ += CNOT(qubit1, qubit2)\n",
    "        circ += H(qubit1)\n",
    "        \n",
    "    # For 00 + 10\n",
    "    elif config == '1010':\n",
    "        circ += H(qubit1)\n",
    "        \n",
    "    # For 00 + 01 + 10\n",
    "    elif config == '1110':\n",
    "        circ += X(qubit1)\n",
    "        circ += RY(-np.arccos(1/np.sqrt(2)), qubit2)\n",
    "        circ += CNOT(qubit1, qubit2)\n",
    "        circ += RY(np.arccos(1/np.sqrt(2)), qubit2)\n",
    "        circ += CNOT(qubit1, qubit2)\n",
    "        circ += RY(-2*np.arccos(1/np.sqrt(3)), qubit1)\n",
    "\n",
    "    # Measuring the qubits and storing them in c-register\n",
    "    circ += MEASURE(qubit1, c[0])\n",
    "    circ += MEASURE(qubit2, c[1])\n",
    "    \n",
    "    # Repeat the circuit N_SHOTS times (Here it is 10,000 times)\n",
    "    circ.wrap_in_numshots_loop(N_SHOTS)\n",
    "    \n",
    "    # Return the constructed circuit.\n",
    "    return circ\n",
    "\n",
    "def params_complex():\n",
    "\t'''\n",
    "\tGenerates parameters to prepare COMPLEX quantum states.\n",
    "    \n",
    "    Input: Nothing\n",
    "    \n",
    "    Output: A list of two tuples of (theta, phi)\n",
    "\t'''\n",
    "    # Generate two random theta values\n",
    "\ttheta = np.arccos(1 - 2 * np.array([random.uniform(0,1) for _ in range(2)]))\n",
    "    \n",
    "    # Generate two random phi values\n",
    "\tphi = np.array([2*np.pi*random.uniform(0,1) for _ in range(2)])\n",
    "    \n",
    "    # Zip them into tuples for organisation\n",
    "\tparams = zip(theta, phi)\n",
    "\treturn list(params)\n",
    "\n",
    "def get_good_qbits(cz_fid, meas_fid):\n",
    "    '''\n",
    "    Finds the best pair of qubits given the lower-bound on the fidelities of CZ and MEASURE operation.\n",
    "    \n",
    "    Input: \n",
    "    cz_fid: The lower-bound on fidelity of CZ gate\n",
    "    meas_fid: The lower-bound on fidelity of MEASURE operation\n",
    "    \n",
    "    Output:\n",
    "    good_qubits: A list of good qubits with details of fidelities.\n",
    "    \n",
    "    '''\n",
    "    # Initialise Aspen-9 machine\n",
    "    qc = get_qc('Aspen-9')\n",
    "    \n",
    "    # Get the details of qubits and edges\n",
    "    details = qc.device.get_isa()\n",
    "\n",
    "    good_edges = [] # To store the details of good qubits.\n",
    "    \n",
    "    # Looping through all the edges to find the edge with max-fidelity CZ-gate\n",
    "    for edge in details.edges:\n",
    "        # Getting the list of gates supported by the edge\n",
    "        gates = edge.gates\n",
    "        # Looping through the list of gates\n",
    "        for gate in gates:\n",
    "            # Picking the CZ gate\n",
    "            if gate.operator == 'CZ':\n",
    "                # Checking if the gate-fidelity is above the threshold.\n",
    "                # The try-except statement will prevent the program from terminating if CZ is not supported by the edge.\n",
    "                try:\n",
    "                    if gate.fidelity > cz_fid:\n",
    "                        good_edges.append(edge)\n",
    "                except TypeError:\n",
    "                    continue\n",
    "    good_qubits = {} # A dictionary to store the details of good qubits in organised form\n",
    "    \n",
    "    # Looping through the list of good edges to pick the ones with qubits with MEASURE-fidelity above the threshold.\n",
    "    for edge in good_edges[:]:\n",
    "        # Getting the qubit objects from the edge object so that we check only those qubits for which the edge satisfies the condition\n",
    "        q1, q2 = edge.targets\n",
    "        # Looping through the list of qubits available\n",
    "        for q in details.qubits:\n",
    "            # Checking if the qubit is present in the list of good edges\n",
    "            if q.id in [q1,q2]:\n",
    "                # Getting the list of gates supported by the chosen qubit\n",
    "                gates = q.gates\n",
    "                # Looping through the list of gates.\n",
    "                for gate in gates:\n",
    "                    # Picking the MEASURE gate\n",
    "                    if gate.operator == 'MEASURE':\n",
    "                        # Checking if the measure-fidelity is below the threshold.\n",
    "                        # If yes, then the corresponding edge is removed from the list of good edges, leaving only the good-qubit-edges.\n",
    "                        if gate.fidelity < meas_fid:\n",
    "                            try:\n",
    "                                good_edges.remove(edge)\n",
    "                            except ValueError:\n",
    "#                                 print('Edge already removed')\n",
    "                                continue\n",
    "    good_qubits = [] # To store the good qubits with details.\n",
    "    \n",
    "    # Looping through the list of good-edges\n",
    "    for edge in good_edges:\n",
    "        # Getting the target qubits of the corresponding edge\n",
    "        q1, q2 = edge.targets\n",
    "        # Storing the details of the edge in dictionary form.\n",
    "        good_qubits.append({'Edge': edge})\n",
    "        \n",
    "        # Storing the details of the qubits in dictionary form.\n",
    "        for q in details.qubits:\n",
    "            if q.id == q1:\n",
    "                good_qubits[-1]['Qubit1'] = q\n",
    "            elif q.id == q2:\n",
    "                good_qubits[-1]['Qubit2'] = q\n",
    "    return good_qubits"
   ]
  },
  {
   "cell_type": "code",
   "execution_count": 36,
   "metadata": {},
   "outputs": [
    {
     "name": "stdout",
     "output_type": "stream",
     "text": [
      "Done with state no.: 10\r"
     ]
    }
   ],
   "source": [
    "# num_states = 10\n",
    "# states = [params_complex() for _ in range(num_states)]#[[(np.pi/4, np.pi), (np.pi/8, np.pi/2)]]\n",
    "\n",
    "data = []\n",
    "counter = 1\n",
    "for state in states:\n",
    "    t1, f1 = state['State_params'][0]\n",
    "    t2, f2 = state['State_params'][1]\n",
    "    g12_list, g23_list, g31_list, f_list, k_list = [], [], [], [], []\n",
    "    for i in range(1000):\n",
    "        counts_12 = Counter(random.choices(['0', '1'], weights=[p12(t1,f1,t2,f2), 1-p12(t1,f1,t2,f2)], k=10_000))\n",
    "        counts_23 = Counter(random.choices(['0', '1'], weights=[p23(t1,f1,t2,f2), 1-p23(t1,f1,t2,f2)], k=10_000))\n",
    "        counts_31 = Counter(random.choices(['0', '1'], weights=[p31(t1,f1,t2,f2), 1-p31(t1,f1,t2,f2)], k=10_000))\n",
    "        counts_singles = Counter(random.choices(['0', '1', '2', '4'], weights=[p1(t1,f1,t2,f2), p2(t1,f1,t2,f2), p3(t1,f1,t2,f2), p4(t1,f1,t2,f2)], k=10_000))\n",
    "        counts_123 = Counter(random.choices(['0', '1'], weights=[p123(t1,f1,t2,f2), 1-p123(t1,f1,t2,f2)], k=10_000))\n",
    "\n",
    "        if 0 in [counts_singles['0'], counts_singles['1'], counts_singles['2']]:\n",
    "            print(\"Division by zero encountered. Ignoring this point.\")\n",
    "            continue\n",
    "        g12 = (2*counts_12['0'] - counts_singles['0'] - counts_singles['1']) / (2 * np.sqrt(counts_singles['0']*counts_singles['1']))\n",
    "        g23 = (2*counts_23['0'] - counts_singles['1'] - counts_singles['2']) / (2 * np.sqrt(counts_singles['1']*counts_singles['2']))\n",
    "        g31 = (2*counts_31['0'] - counts_singles['2'] - counts_singles['0']) / (2 * np.sqrt(counts_singles['2']*counts_singles['0']))\n",
    "        f = g12**2 + g23**2 + g31**2 - 2*g12*g23*g31\n",
    "        k = 3 * counts_123['0'] - 2 * (counts_12['0']+counts_23['0']+counts_31['0']) + (counts_singles['0']+counts_singles['1']+counts_singles['2'])\n",
    "        k = k / 10_000\n",
    "        \n",
    "        g12_list.append(g12)\n",
    "        g23_list.append(g23)\n",
    "        g31_list.append(g31)\n",
    "        f_list.append(f)\n",
    "        k_list.append(k)\n",
    "\n",
    "    g12_list.sort()\n",
    "    g23_list.sort()\n",
    "    g31_list.sort()\n",
    "    f_list.sort()\n",
    "    k_list.sort()\n",
    "\n",
    "    g12_mean = np.mean(g12_list)\n",
    "    g23_mean = np.mean(g23_list)\n",
    "    g31_mean = np.mean(g31_list)\n",
    "    f_mean = np.mean(f_list)\n",
    "    k_mean = np.mean(k_list)\n",
    "\n",
    "    g12_ci = [g12_list[int(0.005*len(g12_list))], g12_list[int(0.995*len(g12_list))]]\n",
    "    g23_ci = [g23_list[int(0.005*len(g23_list))], g23_list[int(0.995*len(g23_list))]]\n",
    "    g31_ci = [g31_list[int(0.005*len(g31_list))], g31_list[int(0.995*len(g31_list))]]\n",
    "    f_ci = [f_list[int(0.005*len(f_list))], f_list[int(0.995*len(f_list))]]\n",
    "    k_ci = [k_list[int(0.005*len(k_list))], k_list[int(0.995*len(k_list))]]\n",
    "\n",
    "\n",
    "#     data_instance = {'State_params': state}\n",
    "#     data_instance['Theory'] = {'g12': {'val': g12_mean, 'ci': g12_ci}, 'g23': {'val': g23_mean, 'ci': g23_ci}, 'g31': {'val': g31_mean, 'ci': g31_ci}, 'f': {'val': f_mean, 'ci': f_ci}, 'k': {'val': k_mean, 'ci': k_ci}}\n",
    "    state['Theory'] = {'g12': {'val': g12_mean, 'ci': g12_ci}, 'g23': {'val': g23_mean, 'ci': g23_ci}, 'g31': {'val': g31_mean, 'ci': g31_ci}, 'f': {'val': f_mean, 'ci': f_ci}, 'k': {'val': k_mean, 'ci': k_ci}}\n",
    "        \n",
    "\n",
    "#     data.append(data_instance)\n",
    "\n",
    "    print(f'Done with state no.: {counter}', end='\\r')\n",
    "    counter += 1"
   ]
  },
  {
   "cell_type": "code",
   "execution_count": 24,
   "metadata": {},
   "outputs": [
    {
     "data": {
      "image/png": "[encoded data removed]",
      "text/plain": [
       "<Figure size 432x288 with 1 Axes>"
      ]
     },
     "metadata": {
      "needs_background": "light"
     },
     "output_type": "display_data"
    }
   ],
   "source": [
    "# fs = np.array([data[i]['Theory']['k']['val'] for i in range(len(data))])\n",
    "# fci = np.array([data[i]['Theory']['k']['ci'] for i in range(len(data))])\n",
    "\n",
    "# x = np.arange(len(data))\n",
    "\n",
    "# plt.errorbar(x, fs, yerr=[fs - fci[:,0], fci[:,1] - fs], marker='*', ls='', capsize=4)\n",
    "# plt.axhline(y=0, ls='dashed', color='red')\n",
    "# # plt.axhline(y=-1, ls='dashed', color='red')\n",
    "# plt.show()"
   ]
  },
  {
   "cell_type": "code",
   "execution_count": 78,
   "metadata": {},
   "outputs": [],
   "source": [
    "with open('states_with_theory_values_set_1.pkl', 'rb') as file:\n",
    "    states = pickle.load(file)"
   ]
  },
  {
   "cell_type": "code",
   "execution_count": 79,
   "metadata": {},
   "outputs": [
    {
     "name": "stdout",
     "output_type": "stream",
     "text": [
      "(23, 24)\n",
      "MeasureInfo(operator='MEASURE', qubit=23, target='_', duration=2000, fidelity=0.9789999999999999)\n",
      "MeasureInfo(operator='MEASURE', qubit=24, target='_', duration=2000, fidelity=0.982)\n",
      "GateInfo(operator='CZ', parameters=[], arguments=['_', '_'], duration=200, fidelity=0.9762620340466897)\n",
      "\n",
      "(32, 33)\n",
      "MeasureInfo(operator='MEASURE', qubit=32, target='_', duration=2000, fidelity=0.976)\n",
      "MeasureInfo(operator='MEASURE', qubit=33, target='_', duration=2000, fidelity=0.9620000000000001)\n",
      "GateInfo(operator='CZ', parameters=[], arguments=['_', '_'], duration=200, fidelity=0.9675324210691539)\n",
      "\n"
     ]
    }
   ],
   "source": [
    "# Get the good qubits\n",
    "good_bits = get_good_qbits(0.96, 0.96)#(0.97, 0.96)\n",
    "\n",
    "# Displaying the details of the gate fidelities of the returned qubits.\n",
    "for bits in good_bits:\n",
    "    print(bits['Edge'].targets)\n",
    "    print(bits['Qubit1'].gates[0])\n",
    "    print(bits['Qubit2'].gates[0])\n",
    "    print(bits['Edge'].gates[0], end='\\n\\n')\n",
    "    "
   ]
  },
  {
   "cell_type": "code",
   "execution_count": 80,
   "metadata": {},
   "outputs": [],
   "source": [
    "# Choose the best out of all the returned good qubits\n",
    "good_qubits = good_bits[0]"
   ]
  },
  {
   "cell_type": "code",
   "execution_count": 81,
   "metadata": {},
   "outputs": [
    {
     "name": "stdout",
     "output_type": "stream",
     "text": [
      "23 24\n",
      "Aspen-9\n"
     ]
    }
   ],
   "source": [
    "# Details of circuit-run\n",
    "q1, q2 = good_qubits['Qubit1'].id, good_qubits['Qubit2'].id # Qubit IDs\n",
    "print(q1,q2)\n",
    "# iters = 25 # Number of states for which to run the circuit\n",
    "# states = [{'State_params': params_complex()} for _ in range(iters)] # Generating a list of random states\n",
    "# with open('good_states_set_2.pkl', 'rb') as file:\n",
    "#     states = pickle.load(file)\n",
    "\n",
    "# List of configs\n",
    "configs = ['1100', '0110', '1010', '1110', 'Singles']\n",
    "\n",
    "# Details of the device on which to run the circuit\n",
    "engine = 'Aspen-9' # Choosing between simulator and Aspen-9 computer\n",
    "qc = get_qc(engine) # Initialising the device\n",
    "print(qc) # Display device details"
   ]
  },
  {
   "cell_type": "code",
   "execution_count": 84,
   "metadata": {
    "collapsed": true,
    "jupyter": {
     "outputs_hidden": true
    }
   },
   "outputs": [
    {
     "name": "stdout",
     "output_type": "stream",
     "text": [
      "Done with iteration 8\r"
     ]
    },
    {
     "ename": "UserMessageError",
     "evalue": "ERROR: It looks like you've tried to run a program against a QPU but do\nnot currently have a reservation on one. To reserve time on Rigetti\nQPUs, use the command line interface, qcs, which comes pre-installed\nin your QMI. From within your QMI, type:\n\n    qcs reserve --lattice <lattice-name>\n\nFor more information, please see the docs at\nhttps://www.rigetti.com/qcs/docs/reservations or reach out to Rigetti\nsupport at support@rigetti.com.",
     "output_type": "error",
     "traceback": [
      "\u001b[0;31m---------------------------------------------------------------------------\u001b[0m",
      "\u001b[0;31mUserMessageError\u001b[0m                          Traceback (most recent call last)",
      "\u001b[0;32m<ipython-input-84-c01de3fb798f>\u001b[0m in \u001b[0;36m<module>\u001b[0;34m\u001b[0m\n\u001b[1;32m     11\u001b[0m         \u001b[0mexe\u001b[0m \u001b[0;34m=\u001b[0m \u001b[0mqc\u001b[0m\u001b[0;34m.\u001b[0m\u001b[0mcompile\u001b[0m\u001b[0;34m(\u001b[0m\u001b[0mcirc\u001b[0m\u001b[0;34m)\u001b[0m\u001b[0;34m\u001b[0m\u001b[0;34m\u001b[0m\u001b[0m\n\u001b[1;32m     12\u001b[0m \u001b[0;34m\u001b[0m\u001b[0m\n\u001b[0;32m---> 13\u001b[0;31m         \u001b[0mclicks\u001b[0m \u001b[0;34m=\u001b[0m \u001b[0mqc\u001b[0m\u001b[0;34m.\u001b[0m\u001b[0mrun\u001b[0m\u001b[0;34m(\u001b[0m\u001b[0mexe\u001b[0m\u001b[0;34m,\u001b[0m \u001b[0mmemory_map\u001b[0m\u001b[0;34m=\u001b[0m\u001b[0;34m{\u001b[0m\u001b[0;34m'theta'\u001b[0m\u001b[0;34m:\u001b[0m \u001b[0mtheta_list\u001b[0m\u001b[0;34m,\u001b[0m \u001b[0;34m'phi'\u001b[0m\u001b[0;34m:\u001b[0m \u001b[0mphi_list\u001b[0m\u001b[0;34m}\u001b[0m\u001b[0;34m)\u001b[0m \u001b[0;31m# Stores the output of the circuit run.\u001b[0m\u001b[0;34m\u001b[0m\u001b[0;34m\u001b[0m\u001b[0m\n\u001b[0m\u001b[1;32m     14\u001b[0m         \u001b[0mclicks\u001b[0m \u001b[0;34m=\u001b[0m \u001b[0mnp\u001b[0m\u001b[0;34m.\u001b[0m\u001b[0marray\u001b[0m\u001b[0;34m(\u001b[0m\u001b[0;34m[\u001b[0m\u001b[0;34m''\u001b[0m\u001b[0;34m.\u001b[0m\u001b[0mjoin\u001b[0m\u001b[0;34m(\u001b[0m\u001b[0mlist\u001b[0m\u001b[0;34m(\u001b[0m\u001b[0mmap\u001b[0m\u001b[0;34m(\u001b[0m\u001b[0mstr\u001b[0m\u001b[0;34m,\u001b[0m \u001b[0melem\u001b[0m\u001b[0;34m)\u001b[0m\u001b[0;34m)\u001b[0m\u001b[0;34m)\u001b[0m \u001b[0;32mfor\u001b[0m \u001b[0melem\u001b[0m \u001b[0;32min\u001b[0m \u001b[0mclicks\u001b[0m\u001b[0;34m]\u001b[0m\u001b[0;34m)\u001b[0m\u001b[0;34m\u001b[0m\u001b[0;34m\u001b[0m\u001b[0m\n\u001b[1;32m     15\u001b[0m         \u001b[0mcounts\u001b[0m \u001b[0;34m=\u001b[0m \u001b[0mCounter\u001b[0m\u001b[0;34m(\u001b[0m\u001b[0mclicks\u001b[0m\u001b[0;34m)\u001b[0m\u001b[0;34m\u001b[0m\u001b[0;34m\u001b[0m\u001b[0m\n",
      "\u001b[0;32m/opt/conda/lib/python3.8/site-packages/pyquil/api/_error_reporting.py\u001b[0m in \u001b[0;36mwrapper\u001b[0;34m(*args, **kwargs)\u001b[0m\n\u001b[1;32m    249\u001b[0m             \u001b[0mglobal_error_context\u001b[0m\u001b[0;34m.\u001b[0m\u001b[0mlog\u001b[0m\u001b[0;34m[\u001b[0m\u001b[0mkey\u001b[0m\u001b[0;34m]\u001b[0m \u001b[0;34m=\u001b[0m \u001b[0mpre_entry\u001b[0m\u001b[0;34m\u001b[0m\u001b[0;34m\u001b[0m\u001b[0m\n\u001b[1;32m    250\u001b[0m \u001b[0;34m\u001b[0m\u001b[0m\n\u001b[0;32m--> 251\u001b[0;31m         \u001b[0mval\u001b[0m \u001b[0;34m=\u001b[0m \u001b[0mfunc\u001b[0m\u001b[0;34m(\u001b[0m\u001b[0;34m*\u001b[0m\u001b[0margs\u001b[0m\u001b[0;34m,\u001b[0m \u001b[0;34m**\u001b[0m\u001b[0mkwargs\u001b[0m\u001b[0;34m)\u001b[0m\u001b[0;34m\u001b[0m\u001b[0;34m\u001b[0m\u001b[0m\n\u001b[0m\u001b[1;32m    252\u001b[0m \u001b[0;34m\u001b[0m\u001b[0m\n\u001b[1;32m    253\u001b[0m         \u001b[0;31m# poke the return value of that call in\u001b[0m\u001b[0;34m\u001b[0m\u001b[0;34m\u001b[0m\u001b[0;34m\u001b[0m\u001b[0m\n",
      "\u001b[0;32m/opt/conda/lib/python3.8/site-packages/pyquil/api/_quantum_computer.py\u001b[0m in \u001b[0;36mrun\u001b[0;34m(self, executable, memory_map)\u001b[0m\n\u001b[1;32m    136\u001b[0m             \u001b[0;32mfor\u001b[0m \u001b[0mregion_name\u001b[0m\u001b[0;34m,\u001b[0m \u001b[0mvalues_list\u001b[0m \u001b[0;32min\u001b[0m \u001b[0mmemory_map\u001b[0m\u001b[0;34m.\u001b[0m\u001b[0mitems\u001b[0m\u001b[0;34m(\u001b[0m\u001b[0;34m)\u001b[0m\u001b[0;34m:\u001b[0m\u001b[0;34m\u001b[0m\u001b[0;34m\u001b[0m\u001b[0m\n\u001b[1;32m    137\u001b[0m                 \u001b[0mself\u001b[0m\u001b[0;34m.\u001b[0m\u001b[0mqam\u001b[0m\u001b[0;34m.\u001b[0m\u001b[0mwrite_memory\u001b[0m\u001b[0;34m(\u001b[0m\u001b[0mregion_name\u001b[0m\u001b[0;34m=\u001b[0m\u001b[0mregion_name\u001b[0m\u001b[0;34m,\u001b[0m \u001b[0mvalue\u001b[0m\u001b[0;34m=\u001b[0m\u001b[0mvalues_list\u001b[0m\u001b[0;34m)\u001b[0m\u001b[0;34m\u001b[0m\u001b[0;34m\u001b[0m\u001b[0m\n\u001b[0;32m--> 138\u001b[0;31m         \u001b[0;32mreturn\u001b[0m \u001b[0mself\u001b[0m\u001b[0;34m.\u001b[0m\u001b[0mqam\u001b[0m\u001b[0;34m.\u001b[0m\u001b[0mrun\u001b[0m\u001b[0;34m(\u001b[0m\u001b[0;34m)\u001b[0m\u001b[0;34m.\u001b[0m\u001b[0mwait\u001b[0m\u001b[0;34m(\u001b[0m\u001b[0;34m)\u001b[0m\u001b[0;34m.\u001b[0m\u001b[0mread_memory\u001b[0m\u001b[0;34m(\u001b[0m\u001b[0mregion_name\u001b[0m\u001b[0;34m=\u001b[0m\u001b[0;34m\"ro\"\u001b[0m\u001b[0;34m)\u001b[0m\u001b[0;34m\u001b[0m\u001b[0;34m\u001b[0m\u001b[0m\n\u001b[0m\u001b[1;32m    139\u001b[0m \u001b[0;34m\u001b[0m\u001b[0m\n\u001b[1;32m    140\u001b[0m     \u001b[0;34m@\u001b[0m\u001b[0m_record_call\u001b[0m\u001b[0;34m\u001b[0m\u001b[0;34m\u001b[0m\u001b[0m\n",
      "\u001b[0;32m/opt/conda/lib/python3.8/site-packages/pyquil/api/_error_reporting.py\u001b[0m in \u001b[0;36mwrapper\u001b[0;34m(*args, **kwargs)\u001b[0m\n\u001b[1;32m    249\u001b[0m             \u001b[0mglobal_error_context\u001b[0m\u001b[0;34m.\u001b[0m\u001b[0mlog\u001b[0m\u001b[0;34m[\u001b[0m\u001b[0mkey\u001b[0m\u001b[0;34m]\u001b[0m \u001b[0;34m=\u001b[0m \u001b[0mpre_entry\u001b[0m\u001b[0;34m\u001b[0m\u001b[0;34m\u001b[0m\u001b[0m\n\u001b[1;32m    250\u001b[0m \u001b[0;34m\u001b[0m\u001b[0m\n\u001b[0;32m--> 251\u001b[0;31m         \u001b[0mval\u001b[0m \u001b[0;34m=\u001b[0m \u001b[0mfunc\u001b[0m\u001b[0;34m(\u001b[0m\u001b[0;34m*\u001b[0m\u001b[0margs\u001b[0m\u001b[0;34m,\u001b[0m \u001b[0;34m**\u001b[0m\u001b[0mkwargs\u001b[0m\u001b[0;34m)\u001b[0m\u001b[0;34m\u001b[0m\u001b[0;34m\u001b[0m\u001b[0m\n\u001b[0m\u001b[1;32m    252\u001b[0m \u001b[0;34m\u001b[0m\u001b[0m\n\u001b[1;32m    253\u001b[0m         \u001b[0;31m# poke the return value of that call in\u001b[0m\u001b[0;34m\u001b[0m\u001b[0;34m\u001b[0m\u001b[0;34m\u001b[0m\u001b[0m\n",
      "\u001b[0;32m/opt/conda/lib/python3.8/site-packages/pyquil/api/_qpu.py\u001b[0m in \u001b[0;36mrun\u001b[0;34m(self, run_priority)\u001b[0m\n\u001b[1;32m    246\u001b[0m \u001b[0;34m\u001b[0m\u001b[0m\n\u001b[1;32m    247\u001b[0m         \u001b[0mjob_priority\u001b[0m \u001b[0;34m=\u001b[0m \u001b[0mrun_priority\u001b[0m \u001b[0;32mif\u001b[0m \u001b[0mrun_priority\u001b[0m \u001b[0;32mis\u001b[0m \u001b[0;32mnot\u001b[0m \u001b[0;32mNone\u001b[0m \u001b[0;32melse\u001b[0m \u001b[0mself\u001b[0m\u001b[0;34m.\u001b[0m\u001b[0mpriority\u001b[0m\u001b[0;34m\u001b[0m\u001b[0;34m\u001b[0m\u001b[0m\n\u001b[0;32m--> 248\u001b[0;31m         job_id = self.client.call(\n\u001b[0m\u001b[1;32m    249\u001b[0m             \u001b[0;34m\"execute_qpu_request\"\u001b[0m\u001b[0;34m,\u001b[0m \u001b[0mrequest\u001b[0m\u001b[0;34m=\u001b[0m\u001b[0mrequest\u001b[0m\u001b[0;34m,\u001b[0m \u001b[0muser\u001b[0m\u001b[0;34m=\u001b[0m\u001b[0mself\u001b[0m\u001b[0;34m.\u001b[0m\u001b[0muser\u001b[0m\u001b[0;34m,\u001b[0m \u001b[0mpriority\u001b[0m\u001b[0;34m=\u001b[0m\u001b[0mjob_priority\u001b[0m\u001b[0;34m\u001b[0m\u001b[0;34m\u001b[0m\u001b[0m\n\u001b[1;32m    250\u001b[0m         )\n",
      "\u001b[0;32m/opt/conda/lib/python3.8/site-packages/pyquil/api/_qpu.py\u001b[0m in \u001b[0;36mclient\u001b[0;34m(self)\u001b[0m\n\u001b[1;32m    167\u001b[0m         \u001b[0mengagement_is_valid\u001b[0m \u001b[0;34m=\u001b[0m \u001b[0mself\u001b[0m\u001b[0;34m.\u001b[0m\u001b[0m_client_engagement\u001b[0m \u001b[0;32mand\u001b[0m \u001b[0mself\u001b[0m\u001b[0;34m.\u001b[0m\u001b[0m_client_engagement\u001b[0m\u001b[0;34m.\u001b[0m\u001b[0mis_valid\u001b[0m\u001b[0;34m(\u001b[0m\u001b[0;34m)\u001b[0m\u001b[0;34m\u001b[0m\u001b[0;34m\u001b[0m\u001b[0m\n\u001b[1;32m    168\u001b[0m         \u001b[0;32mif\u001b[0m \u001b[0;32mnot\u001b[0m \u001b[0;34m(\u001b[0m\u001b[0mself\u001b[0m\u001b[0;34m.\u001b[0m\u001b[0m_client\u001b[0m \u001b[0;32mand\u001b[0m \u001b[0;34m(\u001b[0m\u001b[0mself\u001b[0m\u001b[0;34m.\u001b[0m\u001b[0msession\u001b[0m \u001b[0;32mis\u001b[0m \u001b[0;32mNone\u001b[0m \u001b[0;32mor\u001b[0m \u001b[0mengagement_is_valid\u001b[0m\u001b[0;34m)\u001b[0m\u001b[0;34m)\u001b[0m\u001b[0;34m:\u001b[0m\u001b[0;34m\u001b[0m\u001b[0;34m\u001b[0m\u001b[0m\n\u001b[0;32m--> 169\u001b[0;31m             \u001b[0mself\u001b[0m\u001b[0;34m.\u001b[0m\u001b[0m_client\u001b[0m \u001b[0;34m=\u001b[0m \u001b[0mself\u001b[0m\u001b[0;34m.\u001b[0m\u001b[0m_build_client\u001b[0m\u001b[0;34m(\u001b[0m\u001b[0;34m)\u001b[0m\u001b[0;34m\u001b[0m\u001b[0;34m\u001b[0m\u001b[0m\n\u001b[0m\u001b[1;32m    170\u001b[0m         \u001b[0;32mreturn\u001b[0m \u001b[0mself\u001b[0m\u001b[0;34m.\u001b[0m\u001b[0m_client\u001b[0m\u001b[0;34m\u001b[0m\u001b[0;34m\u001b[0m\u001b[0m\n\u001b[1;32m    171\u001b[0m \u001b[0;34m\u001b[0m\u001b[0m\n",
      "\u001b[0;32m/opt/conda/lib/python3.8/site-packages/pyquil/api/_qpu.py\u001b[0m in \u001b[0;36m_build_client\u001b[0;34m(self)\u001b[0m\n\u001b[1;32m    141\u001b[0m \u001b[0;34m\u001b[0m\u001b[0m\n\u001b[1;32m    142\u001b[0m         \u001b[0;32mif\u001b[0m \u001b[0mendpoint\u001b[0m \u001b[0;32mis\u001b[0m \u001b[0;32mNone\u001b[0m\u001b[0;34m:\u001b[0m\u001b[0;34m\u001b[0m\u001b[0;34m\u001b[0m\u001b[0m\n\u001b[0;32m--> 143\u001b[0;31m             raise UserMessageError(\n\u001b[0m\u001b[1;32m    144\u001b[0m                 \"\"\"It looks like you've tried to run a program against a QPU but do\n\u001b[1;32m    145\u001b[0m \u001b[0;32mnot\u001b[0m \u001b[0mcurrently\u001b[0m \u001b[0mhave\u001b[0m \u001b[0ma\u001b[0m \u001b[0mreservation\u001b[0m \u001b[0mon\u001b[0m \u001b[0mone\u001b[0m\u001b[0;34m.\u001b[0m \u001b[0mTo\u001b[0m \u001b[0mreserve\u001b[0m \u001b[0mtime\u001b[0m \u001b[0mon\u001b[0m \u001b[0mRigetti\u001b[0m\u001b[0;34m\u001b[0m\u001b[0;34m\u001b[0m\u001b[0m\n",
      "\u001b[0;31mUserMessageError\u001b[0m: ERROR: It looks like you've tried to run a program against a QPU but do\nnot currently have a reservation on one. To reserve time on Rigetti\nQPUs, use the command line interface, qcs, which comes pre-installed\nin your QMI. From within your QMI, type:\n\n    qcs reserve --lattice <lattice-name>\n\nFor more information, please see the docs at\nhttps://www.rigetti.com/qcs/docs/reservations or reach out to Rigetti\nsupport at support@rigetti.com."
     ]
    }
   ],
   "source": [
    "trial = 5 # The trial number\n",
    "# states = good_states_set_1 + good_states_set_2\n",
    "i = 1\n",
    "for state in states:\n",
    "    params = state['State_params']\n",
    "    params_split = list(map(list, list(zip(*params))))\n",
    "    theta_list, phi_list = params_split[0], params_split[1]\n",
    "    state[engine] = {}\n",
    "    for config in configs:\n",
    "        circ = circuit(q1, q2, config)\n",
    "        exe = qc.compile(circ)\n",
    "        \n",
    "        clicks = qc.run(exe, memory_map={'theta': theta_list, 'phi': phi_list}) # Stores the output of the circuit run.\n",
    "        clicks = np.array([''.join(list(map(str, elem))) for elem in clicks])\n",
    "        counts = Counter(clicks)\n",
    "        \n",
    "#         state[engine] = {}\n",
    "        state[engine][f'Clicks_{config}'] = clicks\n",
    "        state[engine][f'Counts_{config}'] = counts\n",
    "    print(f'Done with iteration {i}', end='\\r')\n",
    "    i += 1"
   ]
  },
  {
   "cell_type": "code",
   "execution_count": null,
   "metadata": {},
   "outputs": [],
   "source": [
    "# with open('19_10_21_Aspen9_clicks_with_machine_details_trial_5.pkl', 'wb') as file:\n",
    "#     pickle.dump([good_qubits, states], file)"
   ]
  },
  {
   "cell_type": "code",
   "execution_count": 98,
   "metadata": {},
   "outputs": [],
   "source": [
    "with open('19_10_21_Aspen9_clicks_with_machine_details_trial_4.pkl', 'rb') as file:\n",
    "    loaded_data = pickle.load(file)\n",
    "\n",
    "good_qubits = loaded_data[0]\n",
    "states = loaded_data[1]"
   ]
  },
  {
   "cell_type": "code",
   "execution_count": 99,
   "metadata": {},
   "outputs": [],
   "source": [
    "for state in states:\n",
    "    g12 = (2*state[engine]['Counts_1100']['00'] - state[engine]['Counts_Singles']['00'] - state[engine]['Counts_Singles']['01']) / (2 * np.sqrt(state[engine]['Counts_Singles']['00'] * state[engine]['Counts_Singles']['01']))\n",
    "    g23 = (2*state[engine]['Counts_0110']['00'] - state[engine]['Counts_Singles']['01'] - state[engine]['Counts_Singles']['10']) / (2 * np.sqrt(state[engine]['Counts_Singles']['01'] * state[engine]['Counts_Singles']['10']))\n",
    "    g31 = (2*state[engine]['Counts_1010']['00'] - state[engine]['Counts_Singles']['10'] - state[engine]['Counts_Singles']['00']) / (2 * np.sqrt(state[engine]['Counts_Singles']['10'] * state[engine]['Counts_Singles']['00']))\n",
    "\n",
    "    f = g12**2 + g23**2 + g31**2 - 2*g12*g23*g31\n",
    "    \n",
    "    k = 3*state[engine]['Counts_1110']['00'] - 2*(state[engine]['Counts_1100']['00'] + state[engine]['Counts_0110']['00'] + state[engine]['Counts_1010']['00']) + state[engine]['Counts_Singles']['00'] + state[engine]['Counts_Singles']['01'] + state[engine]['Counts_Singles']['10']\n",
    "    k = k/N_SHOTS\n",
    "    state[engine][f'Result'] = {'g12': {'val':g12}, 'g23': {'val':g23}, 'g31': {'val':g31}, 'f': {'val':f}, 'k': {'val':k}}"
   ]
  },
  {
   "cell_type": "code",
   "execution_count": null,
   "metadata": {},
   "outputs": [],
   "source": [
    "with open(f'one-shot-results_with_good_states_set_2_on_{engine}_trial_{trial}.pkl', 'wb') as file:\n",
    "    pickle.dump([good_qubits, states], file)"
   ]
  },
  {
   "cell_type": "code",
   "execution_count": 39,
   "metadata": {},
   "outputs": [
    {
     "data": {
      "text/plain": [
       "{'g12': {'val': 1.0892970642229487, 'ci': 0},\n",
       " 'g23': {'val': 0.25513210258262414},\n",
       " 'g31': {'val': 0.3320233378938992},\n",
       " 'f': {'val': 1.1773516810932925},\n",
       " 'k': {'val': -0.0152}}"
      ]
     },
     "execution_count": 39,
     "metadata": {},
     "output_type": "execute_result"
    }
   ],
   "source": [
    "states[0][engine]['Result']"
   ]
  },
  {
   "cell_type": "code",
   "execution_count": 41,
   "metadata": {},
   "outputs": [
    {
     "name": "stdout",
     "output_type": "stream",
     "text": [
      "Done with state no. 9\r"
     ]
    }
   ],
   "source": [
    "# with open(f'one-shot-results_with_good_states_set_2_on_{engine}_trial_{1}.pkl', 'rb') as file:\n",
    "#     loaded_data = pickle.load(file)\n",
    "\n",
    "# states = loaded_data[1]\n",
    "engine='Aspen-9'\n",
    "for state in states:\n",
    "    g12_boot = []\n",
    "    g23_boot = []\n",
    "    g31_boot = []\n",
    "    f_boot = []\n",
    "    k_boot = []\n",
    "    for i in range(1000):\n",
    "        sample_1100 = state[engine]['Clicks_1100']\n",
    "        sample_0110 = state[engine]['Clicks_0110']\n",
    "        sample_1010 = state[engine]['Clicks_1010']\n",
    "        sample_1110 = state[engine]['Clicks_1110']\n",
    "        sample_Singles = state[engine]['Clicks_Singles']\n",
    "\n",
    "        counts_1100 = Counter(np.random.choice(sample_1100, len(sample_1100)))\n",
    "        counts_0110 = Counter(np.random.choice(sample_0110, len(sample_0110)))\n",
    "        counts_1010 = Counter(np.random.choice(sample_1010, len(sample_1010)))\n",
    "        counts_1110 = Counter(np.random.choice(sample_1110, len(sample_1110)))\n",
    "        counts_Singles = Counter(np.random.choice(sample_Singles, len(sample_Singles)))\n",
    "\n",
    "        g12 = (2*counts_1100['00'] - counts_Singles['00'] - counts_Singles['01']) / (2 * np.sqrt(counts_Singles['00'] * counts_Singles['01']))\n",
    "        g23 = (2*counts_0110['00'] - counts_Singles['01'] - counts_Singles['10']) / (2 * np.sqrt(counts_Singles['01'] * counts_Singles['10']))\n",
    "        g31 = (2*counts_1010['00'] - counts_Singles['10'] - counts_Singles['00']) / (2 * np.sqrt(counts_Singles['10'] * counts_Singles['00']))\n",
    "\n",
    "\n",
    "        f = g12**2 + g23**2 + g31**2 - 2*g12*g23*g31\n",
    "\n",
    "        k = 3*counts_1110['00'] - 2*(counts_1100['00'] + counts_0110['00'] + counts_1010['00']) + counts_Singles['00'] + counts_Singles['01'] + counts_Singles['10']\n",
    "        k = k/N_SHOTS\n",
    "\n",
    "        g12_boot.append(g12)\n",
    "        g23_boot.append(g23)\n",
    "        g31_boot.append(g31)\n",
    "        f_boot.append(f)\n",
    "        k_boot.append(k)\n",
    "    \n",
    "    g12_boot.sort()\n",
    "    g23_boot.sort()\n",
    "    g31_boot.sort()\n",
    "    f_boot.sort()\n",
    "    k_boot.sort()\n",
    "    \n",
    "#     state[engine]['Result']['g12']['ci']\n",
    "    \n",
    "    state[engine]['Result']['g12']['ci'] = [g12_boot[int(0.005*len(g12_boot))], g12_boot[int(0.995*len(g12_boot))]]\n",
    "    state[engine]['Result']['g23']['ci'] = [g23_boot[int(0.005*len(g23_boot))], g23_boot[int(0.995*len(g23_boot))]]\n",
    "    state[engine]['Result']['g31']['ci'] = [g31_boot[int(0.005*len(g31_boot))], g31_boot[int(0.995*len(g31_boot))]]\n",
    "    state[engine]['Result']['f']['ci'] = [f_boot[int(0.005*len(f_boot))], f_boot[int(0.995*len(f_boot))]]\n",
    "    state[engine]['Result']['k']['ci'] =[k_boot[int(0.005*len(k_boot))], k_boot[int(0.995*len(k_boot))]]\n",
    "    \n",
    "#     state[engine]['CI'] = {'g12': g12_cf, 'g23': g23_cf, 'g31': g31_cf, 'f': f_cf, 'k': k_cf}\n",
    "    \n",
    "    print(f'Done with state no. {states.index(state)}', end='\\r')\n"
   ]
  },
  {
   "cell_type": "code",
   "execution_count": 105,
   "metadata": {},
   "outputs": [
    {
     "data": {
      "image/png": "[encoded data removed]",
      "text/plain": [
       "<Figure size 432x288 with 1 Axes>"
      ]
     },
     "metadata": {
      "needs_background": "light"
     },
     "output_type": "display_data"
    }
   ],
   "source": [
    "quant = 'f'\n",
    "# states = chosen_states\n",
    "fth = np.array([states[i]['Theory'][quant]['val'] for i in range(len(states))])\n",
    "fthci = np.array([states[i]['Theory'][quant]['ci'] for i in range(len(states))])\n",
    "\n",
    "# f2q = np.array([states[i]['2q-qvm']['Result'][quant]['val'] for i in range(len(states))])\n",
    "# f2qci = np.array([states[i]['2q-qvm']['Result'][quant]['ci'] for i in range(len(states))])\n",
    "\n",
    "fas = np.array([states[i]['Aspen-9']['Result'][quant]['val'] for i in range(len(states))])\n",
    "# fasci = np.array([states[i]['Aspen-9']['Result'][quant]['ci'] for i in range(len(states))])\n",
    "\n",
    "x = np.arange(len(data))\n",
    "\n",
    "plt.errorbar(x, fth, yerr=[fth-fthci[:,0], fthci[:,1]-fth], marker=\"*\", ls=\"\", capsize=4)\n",
    "# plt.errorbar(x, f2q, yerr=[f2q-f2qci[:,0], f2qci[:,1]-f2q], marker=\"o\", ls=\"\", capsize=4)\n",
    "# plt.errorbar(x, fas, yerr=[fas-fasci[:,0], fasci[:,1]-fas], marker=\"o\", ls=\"\", capsize=4)\n",
    "plt.plot(x, fas, 'o')\n",
    "\n",
    "\n",
    "plt.axhline(y=1)\n",
    "# plt.axhline(y=-1)\n",
    "plt.show()"
   ]
  },
  {
   "cell_type": "code",
   "execution_count": 50,
   "metadata": {},
   "outputs": [],
   "source": [
    "with open('good_states_set_2.pkl', 'wb') as file:\n",
    "    pickle.dump(chosen_states, file)"
   ]
  },
  {
   "cell_type": "code",
   "execution_count": 22,
   "metadata": {},
   "outputs": [],
   "source": [
    "states_params = [states[i]['State_params'] for i in range(len(states))]"
   ]
  },
  {
   "cell_type": "markdown",
   "metadata": {},
   "source": [
    "# Fluctuations"
   ]
  },
  {
   "cell_type": "code",
   "execution_count": 1,
   "metadata": {},
   "outputs": [],
   "source": [
    "import numpy as np, matplotlib.pyplot as plt\n",
    "import random\n",
    "from collections import Counter\n",
    "\n",
    "def params_complex():\n",
    "    '''\n",
    "    Generates parameters to prepare COMPLEX quantum states.\n",
    "    '''\n",
    "    theta = np.arccos(1 - 2 * np.array([random.uniform(0,1) for _ in range(2)]))\n",
    "    phi = np.array([2*np.pi*random.uniform(0,1) for _ in range(2)])\n",
    "    params = zip(theta, phi)\n",
    "    return list(params)\n",
    "\n",
    "\n",
    "def p12(t1, f1, t2, f2):\n",
    "    res = np.cos(t1/2)*np.cos(t2/2)*np.exp(-1j*(f1+f2)/2)\n",
    "    res += np.cos(t1/2)*np.sin(t2/2)*np.exp(1j*(f2-f1)/2)\n",
    "    res = np.linalg.norm(res)\n",
    "    res = res**2/2\n",
    "\n",
    "    return res\n",
    "\n",
    "def p23(t1, f1, t2, f2):\n",
    "    res = np.cos(t1/2)*np.sin(t2/2)*np.exp(1j*(f2-f1)/2)\n",
    "    res += np.sin(t1/2)*np.cos(t2/2)*np.exp(-1j*(f2-f1)/2)\n",
    "    res = np.linalg.norm(res)\n",
    "    res = res**2/2\n",
    "\n",
    "    return res\n",
    "\n",
    "def p31(t1, f1, t2, f2):\n",
    "    res = np.cos(t1/2)*np.cos(t2/2)*np.exp(-1j*(f1+f2)/2)\n",
    "    res += np.sin(t1/2)*np.cos(t2/2)*np.exp(-1j*(f2-f1)/2)\n",
    "    res = np.linalg.norm(res)\n",
    "    res = res**2/2\n",
    "\n",
    "    return res\n",
    "\n",
    "def p1(t1, f1, t2, f2):\n",
    "    return (np.cos(t1/2)*np.cos(t2/2))**2\n",
    "\n",
    "def p2(t1, f1, t2, f2):\n",
    "    return (np.cos(t1/2)*np.sin(t2/2))**2\n",
    "\n",
    "def p3(t1, f1, t2, f2):\n",
    "    return (np.sin(t1/2)*np.cos(t2/2))**2\n",
    "\n",
    "def p4(t1, f1, t2, f2):\n",
    "    return (np.sin(t1/2)*np.sin(t2/2))**2\n",
    "\n",
    "def p123(t1, f1, t2, f2):\n",
    "    res = np.cos(t1/2)*np.cos(t2/2)*np.exp(-1j*(f1+f2)/2)\n",
    "    res += np.cos(t1/2)*np.sin(t2/2)*np.exp(1j*(f2-f1)/2)\n",
    "    res += np.sin(t1/2)*np.cos(t2/2)*np.exp(-1j*(f2-f1)/2)\n",
    "\n",
    "    res = np.linalg.norm(res)\n",
    "    res = res**2/3\n",
    "\n",
    "    return res"
   ]
  },
  {
   "cell_type": "code",
   "execution_count": 4,
   "metadata": {},
   "outputs": [
    {
     "name": "stdout",
     "output_type": "stream",
     "text": [
      "Done with state no.: 10\r"
     ]
    }
   ],
   "source": [
    "num_states = 10\n",
    "states = [params_complex() for _ in range(num_states)]#[[(np.pi/4, np.pi), (np.pi/8, np.pi/2)]]\n",
    "\n",
    "data = []\n",
    "counter = 1\n",
    "for state in states:\n",
    "    t1, f1 = state[0]\n",
    "    t2, f2 = state[1]\n",
    "    g12_list, g23_list, g31_list, f_list, k_list = [], [], [], [], []\n",
    "    for i in range(1000):\n",
    "        counts_12 = Counter(random.choices(['0', '1'], weights=[p12(t1,f1,t2,f2), 1-p12(t1,f1,t2,f2)], k=10_000))\n",
    "        counts_23 = Counter(random.choices(['0', '1'], weights=[p23(t1,f1,t2,f2), 1-p23(t1,f1,t2,f2)], k=10_000))\n",
    "        counts_31 = Counter(random.choices(['0', '1'], weights=[p31(t1,f1,t2,f2), 1-p31(t1,f1,t2,f2)], k=10_000))\n",
    "        counts_singles = Counter(random.choices(['0', '1', '2', '4'], weights=[p1(t1,f1,t2,f2), p2(t1,f1,t2,f2), p3(t1,f1,t2,f2), p4(t1,f1,t2,f2)], k=10_000))\n",
    "        counts_123 = Counter(random.choices(['0', '1'], weights=[p123(t1,f1,t2,f2), 1-p123(t1,f1,t2,f2)], k=10_000))\n",
    "\n",
    "        if 0 in [counts_singles['0'], counts_singles['1'], counts_singles['2']]:\n",
    "            print(\"Division by zero encountered. Ignoring this point.\")\n",
    "            continue\n",
    "        g12 = (2*counts_12['0'] - counts_singles['0'] - counts_singles['1']) / (2 * np.sqrt(counts_singles['0']*counts_singles['1']))\n",
    "        g23 = (2*counts_23['0'] - counts_singles['1'] - counts_singles['2']) / (2 * np.sqrt(counts_singles['1']*counts_singles['2']))\n",
    "        g31 = (2*counts_31['0'] - counts_singles['2'] - counts_singles['0']) / (2 * np.sqrt(counts_singles['2']*counts_singles['0']))\n",
    "        f = g12**2 + g23**2 + g31**2 - 2*g12*g23*g31\n",
    "        k = 3 * counts_123['0'] - 2 * (counts_12['0']+counts_23['0']+counts_31['0']) + (counts_singles['0']+counts_singles['1']+counts_singles['2'])\n",
    "        k = k / 10_000\n",
    "        \n",
    "        g12_list.append(g12)\n",
    "        g23_list.append(g23)\n",
    "        g31_list.append(g31)\n",
    "        f_list.append(f)\n",
    "        k_list.append(k)\n",
    "\n",
    "    g12_list.sort()\n",
    "    g23_list.sort()\n",
    "    g31_list.sort()\n",
    "    f_list.sort()\n",
    "    k_list.sort()\n",
    "\n",
    "    g12_mean = np.mean(g12_list)\n",
    "    g23_mean = np.mean(g23_list)\n",
    "    g31_mean = np.mean(g31_list)\n",
    "    f_mean = np.mean(f_list)\n",
    "    k_mean = np.mean(k_list)\n",
    "\n",
    "    g12_ci = [g12_list[int(0.025*len(g12_list))], g12_list[int(0.975*len(g12_list))]]\n",
    "    g23_ci = [g23_list[int(0.025*len(g23_list))], g23_list[int(0.975*len(g23_list))]]\n",
    "    g31_ci = [g31_list[int(0.025*len(g31_list))], g31_list[int(0.975*len(g31_list))]]\n",
    "    f_ci = [f_list[int(0.025*len(f_list))], f_list[int(0.975*len(f_list))]]\n",
    "    k_ci = [k_list[int(0.025*len(k_list))], k_list[int(0.975*len(k_list))]]\n",
    "\n",
    "\n",
    "    data_instance = {'State_params': state}\n",
    "    data_instance['Theory'] = {'g12': {'val': g12_mean, 'ci': g12_ci}, 'g23': {'val': g23_mean, 'ci': g23_ci}, 'g31': {'val': g31_mean, 'ci': g31_ci}, 'f': {'val': f_mean, 'ci': f_ci}, 'k': {'val': k_mean, 'ci': k_ci}}\n",
    "\n",
    "    data.append(data_instance)\n",
    "\n",
    "    print(f'Done with state no.: {counter}', end='\\r')\n",
    "    counter += 1"
   ]
  },
  {
   "cell_type": "code",
   "execution_count": 11,
   "metadata": {},
   "outputs": [
    {
     "data": {
      "image/png": "[encoded data removed]",
      "text/plain": [
       "<Figure size 432x288 with 1 Axes>"
      ]
     },
     "metadata": {
      "needs_background": "light"
     },
     "output_type": "display_data"
    }
   ],
   "source": [
    "fs = np.array([data[i]['Theory']['k']['val'] for i in range(len(data))])\n",
    "fci = np.array([data[i]['Theory']['k']['ci'] for i in range(len(data))])\n",
    "\n",
    "x = np.arange(len(data))\n",
    "\n",
    "plt.errorbar(x, fs, yerr=[fs - fci[:,0], fci[:,1] - fs], marker='*', ls='', capsize=4)\n",
    "plt.axhline(y=0, ls='dashed', color='red')\n",
    "# plt.axhline(y=-1, ls='dashed', color='red')\n",
    "plt.show()"
   ]
  },
  {
   "cell_type": "code",
   "execution_count": 12,
   "metadata": {},
   "outputs": [],
   "source": [
    "import pickle\n",
    "\n",
    "# with open('states_with_theory_values_set_1.pkl', 'wb') as file:\n",
    "#     pickle.dump(data, file)"
   ]
  },
  {
   "cell_type": "code",
   "execution_count": 13,
   "metadata": {},
   "outputs": [
    {
     "data": {
      "text/plain": [
       "[[(2.330122754090235, 5.081175731474043),\n",
       "  (1.8414099326149804, 0.12900512482079862)],\n",
       " [(1.0201916464884317, 2.0607988309177987),\n",
       "  (2.3726444642861373, 4.1427003753168385)],\n",
       " [(0.9134557475788397, 6.273318900586705),\n",
       "  (2.503026034464191, 1.2682739958889333)],\n",
       " [(2.1345901856597402, 3.9004242745267272),\n",
       "  (1.245807094707962, 4.0436613471760205)],\n",
       " [(2.4882492623846306, 3.3366428989513324),\n",
       "  (1.9283878009917466, 0.6562527033587235)],\n",
       " [(0.6815893222922181, 0.22564144412127218),\n",
       "  (1.5143672974321394, 0.25524885405317216)],\n",
       " [(0.8672152298611195, 3.080402907762015),\n",
       "  (0.41955433143923665, 1.1831914819457598)],\n",
       " [(1.1587874749080924, 1.5455174928892128),\n",
       "  (1.2003961113396087, 3.761939703251866)],\n",
       " [(1.859757200870639, 4.644083675169326),\n",
       "  (2.01305154305223, 1.0408663854153446)],\n",
       " [(1.0149463947426047, 4.929140517872895),\n",
       "  (0.8389545285509826, 1.802146244399603)]]"
      ]
     },
     "execution_count": 13,
     "metadata": {},
     "output_type": "execute_result"
    }
   ],
   "source": [
    "[data[i]['State_params'] for i in range(len(data))]"
   ]
  },
  {
   "cell_type": "code",
   "execution_count": 25,
   "metadata": {},
   "outputs": [],
   "source": [
    "with open('states_with_theory_values_set_1.pkl', 'rb') as file:\n",
    "    loaded_data = pickle.load(file)"
   ]
  },
  {
   "cell_type": "code",
   "execution_count": 109,
   "metadata": {},
   "outputs": [
    {
     "data": {
      "text/plain": [
       "{'Edge': Edge(targets=(23, 24), type=None, dead=False, gates=[GateInfo(operator='CZ', parameters=[], arguments=['_', '_'], duration=200, fidelity=0.9762620340466897), GateInfo(operator='CPHASE', parameters=['theta'], arguments=['_', '_'], duration=200, fidelity=0.8943444553858335), GateInfo(operator='XY', parameters=['theta'], arguments=['_', '_'], duration=200, fidelity=0.9695186079385717)]),\n",
       " 'Qubit1': Qubit(id=23, type=None, dead=False, gates=[MeasureInfo(operator='MEASURE', qubit=23, target='_', duration=2000, fidelity=0.9789999999999999), MeasureInfo(operator='MEASURE', qubit=23, target=None, duration=2000, fidelity=0.9789999999999999), GateInfo(operator='RZ', parameters=['_'], arguments=[23], duration=0.01, fidelity=1.0), GateInfo(operator='RX', parameters=[0.0], arguments=[23], duration=50, fidelity=1.0), GateInfo(operator='RX', parameters=[3.141592653589793], arguments=[23], duration=50, fidelity=0.9992947355694914), GateInfo(operator='RX', parameters=[-3.141592653589793], arguments=[23], duration=50, fidelity=0.9992947355694914), GateInfo(operator='RX', parameters=[1.5707963267948966], arguments=[23], duration=50, fidelity=0.9992947355694914), GateInfo(operator='RX', parameters=[-1.5707963267948966], arguments=[23], duration=50, fidelity=0.9992947355694914)]),\n",
       " 'Qubit2': Qubit(id=24, type=None, dead=False, gates=[MeasureInfo(operator='MEASURE', qubit=24, target='_', duration=2000, fidelity=0.982), MeasureInfo(operator='MEASURE', qubit=24, target=None, duration=2000, fidelity=0.982), GateInfo(operator='RZ', parameters=['_'], arguments=[24], duration=0.01, fidelity=1.0), GateInfo(operator='RX', parameters=[0.0], arguments=[24], duration=50, fidelity=1.0), GateInfo(operator='RX', parameters=[3.141592653589793], arguments=[24], duration=50, fidelity=0.9992878727851684), GateInfo(operator='RX', parameters=[-3.141592653589793], arguments=[24], duration=50, fidelity=0.9992878727851684), GateInfo(operator='RX', parameters=[1.5707963267948966], arguments=[24], duration=50, fidelity=0.9992878727851684), GateInfo(operator='RX', parameters=[-1.5707963267948966], arguments=[24], duration=50, fidelity=0.9992878727851684)])}"
      ]
     },
     "execution_count": 109,
     "metadata": {},
     "output_type": "execute_result"
    }
   ],
   "source": [
    "good_qubits"
   ]
  },
  {
   "cell_type": "code",
   "execution_count": 123,
   "metadata": {},
   "outputs": [],
   "source": [
    "# Dephasing noise model\n",
    "def dephasing_kraus_map(p=.1):\n",
    "    \"\"\"\n",
    "    Generate the Kraus operators corresponding to a dephasing channel.\n",
    "\n",
    "    :params float p: The one-step dephasing probability.\n",
    "    :return: A list [k1, k2] of the Kraus operators that parametrize the map.\n",
    "    :rtype: list\n",
    "    \"\"\"\n",
    "    return [np.sqrt(1-p)*np.eye(2), np.sqrt(p)*np.diag([1, -1])]\n",
    "\n",
    "def tensor_kraus_maps(k1, k2):\n",
    "    \"\"\"\n",
    "    Generate the Kraus map corresponding to the composition\n",
    "    of two maps on different qubits.\n",
    "\n",
    "    :param list k1: The Kraus operators for the first qubit.\n",
    "    :param list k2: The Kraus operators for the second qubit.\n",
    "    :return: A list of tensored Kraus operators.\n",
    "    \"\"\"\n",
    "    return [np.kron(k1j, k2l) for k1j in k1 for k2l in k2]\n",
    "\n",
    "def append_kraus_to_gate(kraus_ops, g):\n",
    "    \"\"\"\n",
    "    Follow a gate `g` by a Kraus map described by `kraus_ops`.\n",
    "\n",
    "    :param list kraus_ops: The Kraus operators.\n",
    "    :param numpy.ndarray g: The unitary gate.\n",
    "    :return: A list of transformed Kraus operators.\n",
    "    \"\"\"\n",
    "    return [kj.dot(g) for kj in kraus_ops]"
   ]
  },
  {
   "cell_type": "code",
   "execution_count": 124,
   "metadata": {},
   "outputs": [],
   "source": [
    "# The circuit for constructing the product state and measuring in Bell basis.\n",
    "def circuit_noisy(qubit1, qubit2, config, p, pmeas_1, pmeas_2):\n",
    "    '''\n",
    "    Constructs the quantum circuit and returns it.\n",
    "    \n",
    "    Input:\n",
    "    qubit1: The id of qubit1\n",
    "    qubit2: The id of qubit2\n",
    "    config: Config is a string which states which basis to project the given state on. \n",
    "            It is a 4-digit binary number 'XXXX', where the left-most digit corresponds to '00'\n",
    "            and as we proceed towards the right it refers to '01', '10' and '11' in that order.\n",
    "            For example, if we want to project the state on 00+01 then the config will be '1100'.\n",
    "    \n",
    "    Output: PyQuil circuit object 'circ'\n",
    "    '''\n",
    "    # Initialising a pyquil circuit object\n",
    "    circ = Program()\n",
    "    \n",
    "    # Declaring variables for parametric compilation\n",
    "    c = circ.declare('ro', 'BIT', 2) # Stores the measurement outcomes.\n",
    "    theta = circ.declare('theta', 'REAL', 2) # The theta values for Ry gates to construct states\n",
    "    phi = circ.declare('phi', 'REAL', 2) # The phi values for Rz gates to construct states\n",
    "    \n",
    "    corrupted_CZ = append_kraus_to_gate(\n",
    "    tensor_kraus_maps(\n",
    "        dephasing_kraus_map(p),\n",
    "        dephasing_kraus_map(p)\n",
    "    ),\n",
    "    np.diag([1, 1, 1, -1]))\n",
    "    \n",
    "    circ.define_noisy_gate(\"CZ\", [qubit1, qubit2], corrupted_CZ)\n",
    "    \n",
    "    circ.define_noisy_readout(qubit1, p00=pmeas_1[0], p11=pmeas_1[1])\n",
    "    circ.define_noisy_readout(qubit2, p00=pmeas_2[0], p11=pmeas_2[1])\n",
    "    # Preparation of states.\n",
    "    # State in qubit 1\n",
    "    circ += RY(theta[0], qubit1)\n",
    "    circ += RZ(phi[0], qubit1)\n",
    "    \n",
    "    # State in qubit 2\n",
    "    circ += RY(theta[1], qubit2)\n",
    "    circ += RZ(phi[1], qubit2)\n",
    "    \n",
    "    # Different measurement bases\n",
    "    # For 00 + 01\n",
    "    if config == '1100':\n",
    "        circ += H(qubit2)\n",
    "        \n",
    "    # For 01 + 10\n",
    "    elif config == '0110':\n",
    "        circ += X(qubit1)\n",
    "        circ += CNOT(qubit1, qubit2)\n",
    "        circ += H(qubit1)\n",
    "        \n",
    "    # For 00 + 10\n",
    "    elif config == '1010':\n",
    "        circ += H(qubit1)\n",
    "        \n",
    "    # For 00 + 01 + 10\n",
    "    elif config == '1110':\n",
    "        circ += X(qubit1)\n",
    "        circ += RY(-np.arccos(1/np.sqrt(2)), qubit2)\n",
    "        circ += CNOT(qubit1, qubit2)\n",
    "        circ += RY(np.arccos(1/np.sqrt(2)), qubit2)\n",
    "        circ += CNOT(qubit1, qubit2)\n",
    "        circ += RY(-2*np.arccos(1/np.sqrt(3)), qubit1)\n",
    "\n",
    "    # Measuring the qubits and storing them in c-register\n",
    "    circ += MEASURE(qubit1, c[0])\n",
    "    circ += MEASURE(qubit2, c[1])\n",
    "    \n",
    "    # Repeat the circuit N_SHOTS times (Here it is 10,000 times)\n",
    "    circ.wrap_in_numshots_loop(N_SHOTS)\n",
    "    \n",
    "    # Return the constructed circuit.\n",
    "    return circ"
   ]
  },
  {
   "cell_type": "code",
   "execution_count": 125,
   "metadata": {},
   "outputs": [
    {
     "name": "stdout",
     "output_type": "stream",
     "text": [
      "23 24\n",
      "2q-qvm\n"
     ]
    }
   ],
   "source": [
    "# Details of circuit-run\n",
    "q1, q2 = good_qubits['Qubit1'].id, good_qubits['Qubit2'].id # Qubit IDs\n",
    "print(q1,q2)\n",
    "\n",
    "deph_damp = 1-good_qubits['Edge'].gates[0].fidelity\n",
    "pmeas_1 = [good_qubits['Qubit1'].gates[0].fidelity, good_qubits['Qubit1'].gates[0].fidelity]\n",
    "pmeas_2 = [good_qubits['Qubit2'].gates[0].fidelity, good_qubits['Qubit2'].gates[0].fidelity]\n",
    "# iters = 25 # Number of states for which to run the circuit\n",
    "# states = [{'State_params': params_complex()} for _ in range(iters)] # Generating a list of random states\n",
    "# with open('good_states_set_2.pkl', 'rb') as file:\n",
    "#     states = pickle.load(file)\n",
    "\n",
    "# List of configs\n",
    "configs = ['1100', '0110', '1010', '1110', 'Singles']\n",
    "\n",
    "# Details of the device on which to run the circuit\n",
    "engine = 'noisy-2q-qvm' # Choosing between simulator and Aspen-9 computer\n",
    "qc = get_qc('2q-qvm') # Initialising the device\n",
    "print(qc) # Display device details"
   ]
  },
  {
   "cell_type": "code",
   "execution_count": 126,
   "metadata": {},
   "outputs": [
    {
     "data": {
      "text/plain": [
       "0.9762620340466897"
      ]
     },
     "execution_count": 126,
     "metadata": {},
     "output_type": "execute_result"
    }
   ],
   "source": [
    "good_qubits['Edge'].gates[0].fidelity"
   ]
  },
  {
   "cell_type": "code",
   "execution_count": 127,
   "metadata": {},
   "outputs": [
    {
     "name": "stdout",
     "output_type": "stream",
     "text": [
      "Done with iteration 10\r"
     ]
    }
   ],
   "source": [
    "trial = 1 # The trial number\n",
    "# states = good_states_set_1 + good_states_set_2\n",
    "i = 1\n",
    "for state in states:\n",
    "    params = state['State_params']\n",
    "    params_split = list(map(list, list(zip(*params))))\n",
    "    theta_list, phi_list = params_split[0], params_split[1]\n",
    "    state[engine] = {}\n",
    "    for config in configs:\n",
    "        circ = circuit_noisy(q1, q2, config, deph_damp, pmeas_1, pmeas_2)\n",
    "        exe = qc.compile(circ)\n",
    "        \n",
    "        clicks = qc.run(exe, memory_map={'theta': theta_list, 'phi': phi_list}) # Stores the output of the circuit run.\n",
    "        clicks = np.array([''.join(list(map(str, elem))) for elem in clicks])\n",
    "        counts = Counter(clicks)\n",
    "        \n",
    "#         state[engine] = {}\n",
    "        state[engine][f'Clicks_{config}'] = clicks\n",
    "        state[engine][f'Counts_{config}'] = counts\n",
    "    print(f'Done with iteration {i}', end='\\r')\n",
    "    i += 1"
   ]
  },
  {
   "cell_type": "code",
   "execution_count": 129,
   "metadata": {},
   "outputs": [],
   "source": [
    "for state in states:\n",
    "    g12 = (2*state[engine]['Counts_1100']['00'] - state[engine]['Counts_Singles']['00'] - state[engine]['Counts_Singles']['01']) / (2 * np.sqrt(state[engine]['Counts_Singles']['00'] * state[engine]['Counts_Singles']['01']))\n",
    "    g23 = (2*state[engine]['Counts_0110']['00'] - state[engine]['Counts_Singles']['01'] - state[engine]['Counts_Singles']['10']) / (2 * np.sqrt(state[engine]['Counts_Singles']['01'] * state[engine]['Counts_Singles']['10']))\n",
    "    g31 = (2*state[engine]['Counts_1010']['00'] - state[engine]['Counts_Singles']['10'] - state[engine]['Counts_Singles']['00']) / (2 * np.sqrt(state[engine]['Counts_Singles']['10'] * state[engine]['Counts_Singles']['00']))\n",
    "\n",
    "    f = g12**2 + g23**2 + g31**2 - 2*g12*g23*g31\n",
    "    \n",
    "    k = 3*state[engine]['Counts_1110']['00'] - 2*(state[engine]['Counts_1100']['00'] + state[engine]['Counts_0110']['00'] + state[engine]['Counts_1010']['00']) + state[engine]['Counts_Singles']['00'] + state[engine]['Counts_Singles']['01'] + state[engine]['Counts_Singles']['10']\n",
    "    k = k/N_SHOTS\n",
    "    state[engine][f'Result'] = {'g12': {'val':g12}, 'g23': {'val':g23}, 'g31': {'val':g31}, 'f': {'val':f}, 'k': {'val':k}}"
   ]
  },
  {
   "cell_type": "code",
   "execution_count": 29,
   "metadata": {},
   "outputs": [],
   "source": [
    "engine = 'Aspen-9'"
   ]
  },
  {
   "cell_type": "code",
   "execution_count": 30,
   "metadata": {},
   "outputs": [
    {
     "name": "stdout",
     "output_type": "stream",
     "text": [
      "Done with state no. 9\r"
     ]
    }
   ],
   "source": [
    "for state in states:\n",
    "    g12_boot = []\n",
    "    g23_boot = []\n",
    "    g31_boot = []\n",
    "    f_boot = []\n",
    "    k_boot = []\n",
    "    for i in range(1000):\n",
    "        sample_1100 = state[engine]['Clicks_1100']\n",
    "        sample_0110 = state[engine]['Clicks_0110']\n",
    "        sample_1010 = state[engine]['Clicks_1010']\n",
    "        sample_1110 = state[engine]['Clicks_1110']\n",
    "        sample_Singles = state[engine]['Clicks_Singles']\n",
    "\n",
    "        counts_1100 = Counter(np.random.choice(sample_1100, len(sample_1100)))\n",
    "        counts_0110 = Counter(np.random.choice(sample_0110, len(sample_0110)))\n",
    "        counts_1010 = Counter(np.random.choice(sample_1010, len(sample_1010)))\n",
    "        counts_1110 = Counter(np.random.choice(sample_1110, len(sample_1110)))\n",
    "        counts_Singles = Counter(np.random.choice(sample_Singles, len(sample_Singles)))\n",
    "\n",
    "        g12 = (2*counts_1100['00'] - counts_Singles['00'] - counts_Singles['01']) / (2 * np.sqrt(counts_Singles['00'] * counts_Singles['01']))\n",
    "        g23 = (2*counts_0110['00'] - counts_Singles['01'] - counts_Singles['10']) / (2 * np.sqrt(counts_Singles['01'] * counts_Singles['10']))\n",
    "        g31 = (2*counts_1010['00'] - counts_Singles['10'] - counts_Singles['00']) / (2 * np.sqrt(counts_Singles['10'] * counts_Singles['00']))\n",
    "\n",
    "\n",
    "        f = g12**2 + g23**2 + g31**2 - 2*g12*g23*g31\n",
    "\n",
    "        k = 3*counts_1110['00'] - 2*(counts_1100['00'] + counts_0110['00'] + counts_1010['00']) + counts_Singles['00'] + counts_Singles['01'] + counts_Singles['10']\n",
    "        k = k/N_SHOTS\n",
    "\n",
    "        g12_boot.append(g12)\n",
    "        g23_boot.append(g23)\n",
    "        g31_boot.append(g31)\n",
    "        f_boot.append(f)\n",
    "        k_boot.append(k)\n",
    "    \n",
    "    g12_boot.sort()\n",
    "    g23_boot.sort()\n",
    "    g31_boot.sort()\n",
    "    f_boot.sort()\n",
    "    k_boot.sort()\n",
    "    \n",
    "#     state[engine]['Result']['g12']['ci']\n",
    "    \n",
    "    state[engine]['Result']['g12']['ci'] = [g12_boot[int(0.025*len(g12_boot))], g12_boot[int(0.975*len(g12_boot))]]\n",
    "    state[engine]['Result']['g23']['ci'] = [g23_boot[int(0.025*len(g23_boot))], g23_boot[int(0.975*len(g23_boot))]]\n",
    "    state[engine]['Result']['g31']['ci'] = [g31_boot[int(0.025*len(g31_boot))], g31_boot[int(0.975*len(g31_boot))]]\n",
    "    state[engine]['Result']['f']['ci'] = [f_boot[int(0.025*len(f_boot))], f_boot[int(0.975*len(f_boot))]]\n",
    "    state[engine]['Result']['k']['ci'] =[k_boot[int(0.025*len(k_boot))], k_boot[int(0.975*len(k_boot))]]\n",
    "    \n",
    "#     state[engine]['CI'] = {'g12': g12_cf, 'g23': g23_cf, 'g31': g31_cf, 'f': f_cf, 'k': k_cf}\n",
    "    \n",
    "    print(f'Done with state no. {states.index(state)}', end='\\r')\n"
   ]
  },
  {
   "cell_type": "code",
   "execution_count": 47,
   "metadata": {},
   "outputs": [
    {
     "data": {
      "image/png": "[encoded data removed]",
      "text/plain": [
       "<Figure size 432x288 with 1 Axes>"
      ]
     },
     "metadata": {
      "needs_background": "light"
     },
     "output_type": "display_data"
    }
   ],
   "source": [
    "quant = 'k'\n",
    "# states = chosen_states\n",
    "fth = np.array([states[i]['Theory'][quant]['val'] for i in range(len(states))])\n",
    "fthci = np.array([states[i]['Theory'][quant]['ci'] for i in range(len(states))])\n",
    "\n",
    "# f2q = np.array([states[i]['2q-qvm']['Result'][quant]['val'] for i in range(len(states))])\n",
    "# f2qci = np.array([states[i]['2q-qvm']['Result'][quant]['ci'] for i in range(len(states))])\n",
    "\n",
    "fnq = np.array([states[i]['noisy-2q-qvm']['Result'][quant]['val'] for i in range(len(states))])\n",
    "fnqci = np.array([states[i]['noisy-2q-qvm']['Result'][quant]['ci'] for i in range(len(states))])\n",
    "\n",
    "fas = np.array([states[i]['Aspen-9']['Result'][quant]['val'] for i in range(len(states))])\n",
    "fasci = np.array([states[i]['Aspen-9']['Result'][quant]['ci'] for i in range(len(states))])\n",
    "# fnq = np.array([states[i]['noisy-2q-qvm']['Result'][quant]['val'] for i in range(len(states))])\n",
    "# fasci = np.array([states[i]['Aspen-9']['Result'][quant]['ci'] for i in range(len(states))])\n",
    "\n",
    "x = np.arange(len(states))\n",
    "\n",
    "plt.rcParams.update({\n",
    "    \"text.usetex\": True,\n",
    "    \"font.family\": \"serif\",\n",
    "    \"font.sans-serif\": [\"Helvetica\"]})\n",
    "\n",
    "plt.errorbar(x, fth, yerr=[fth-fthci[:,0], fthci[:,1]-fth], marker=\"*\", ls=\"\", capsize=4, label='Ideal', color='blue')\n",
    "# plt.errorbar(x, f2q, yerr=[f2q-f2qci[:,0], f2qci[:,1]-f2q], marker=\"o\", ls=\"\", capsize=4)\n",
    "plt.errorbar(x, fas, yerr=[fas-fasci[:,0], fasci[:,1]-fas], marker=\"o\", ls=\"\", capsize=4, label='Aspen-9', color='darkgreen')\n",
    "plt.errorbar(x, fnq, yerr=[fnq-fnqci[:,0], fnqci[:,1]-fnq], marker=\"D\", ls=\"\", capsize=4, label='Noisy-QVM', color='maroon')\n",
    "# plt.plot(x, fas, 'o', label='Aspen-9')\n",
    "# plt.plot(x, fnq, 'o')\n",
    "\n",
    "\n",
    "# plt.axhline(y=1, ls='dashed', color='red')\n",
    "# plt.axhline(y=-1, ls='dashed', color='red')\n",
    "plt.axhline(y=0, ls='dashed', color='red')\n",
    "\n",
    "# plt.xlabel('Iterations', size=22)\n",
    "plt.ylabel('$\\kappa$', size=24)\n",
    "\n",
    "plt.xticks([],size=16)\n",
    "plt.yticks(size=16)\n",
    "\n",
    "plt.legend(loc='lower right', fontsize=15)#, bbox_to_anchor=(1,1))\n",
    "\n",
    "plt.savefig(f'{quant}_one_shot_latest_24_oct.pdf', bbox_inches='tight')\n",
    "\n",
    "plt.show()"
   ]
  },
  {
   "cell_type": "code",
   "execution_count": 182,
   "metadata": {},
   "outputs": [
    {
     "data": {
      "text/plain": [
       "{'State_params': [(2.330122754090235, 5.081175731474043),\n",
       "  (1.8414099326149804, 0.12900512482079862)],\n",
       " 'Theory': {'g12': {'val': 0.9927011093614654,\n",
       "   'ci': [0.8660820800899925, 1.12930435952464]},\n",
       "  'g23': {'val': 0.23678871277151303,\n",
       "   'ci': [0.174455895670337, 0.29833712794742495]},\n",
       "  'g31': {'val': 0.3605298840853403,\n",
       "   'ci': [0.28671583340515816, 0.4363240285931435]},\n",
       "  'f': {'val': 1.0085053255849705,\n",
       "   'ci': [0.7842498935582382, 1.2718704026930259]},\n",
       "  'k': {'val': 0.0005429000000000003, 'ci': [-0.0403, 0.0383]}},\n",
       " 'Aspen-9': {'Clicks_1100': array(['10', '10', '10', ..., '00', '11', '00'], dtype='<U2'),\n",
       "  'Counts_1100': Counter({'10': 7715, '00': 1730, '11': 452, '01': 103}),\n",
       "  'Clicks_0110': array(['00', '10', '10', ..., '11', '10', '01'], dtype='<U2'),\n",
       "  'Counts_0110': Counter({'00': 2511, '10': 1694, '11': 1936, '01': 3859}),\n",
       "  'Clicks_1010': array(['00', '11', '00', ..., '01', '11', '10'], dtype='<U2'),\n",
       "  'Counts_1010': Counter({'00': 2378, '11': 2362, '10': 1443, '01': 3817}),\n",
       "  'Clicks_1110': array(['11', '10', '00', ..., '10', '10', '01'], dtype='<U2'),\n",
       "  'Counts_1110': Counter({'11': 3071, '10': 1763, '00': 3046, '01': 2120}),\n",
       "  'Clicks_Singles': array(['11', '11', '11', ..., '10', '10', '10'], dtype='<U2'),\n",
       "  'Counts_Singles': Counter({'11': 5007, '01': 1159, '00': 709, '10': 3125}),\n",
       "  'Result': {'g12': {'val': 0.8781086032485234},\n",
       "   'g23': {'val': 0.19389188700960377},\n",
       "   'g31': {'val': 0.30970826620409747},\n",
       "   'f': {'val': 0.7991272900742459},\n",
       "   'k': {'val': 0.0893}}},\n",
       " 'noisy-2q-qvm': {'Clicks_1100': array(['10', '10', '10', ..., '10', '10', '10'], dtype='<U2'),\n",
       "  'Counts_1100': Counter({'10': 8013, '00': 1608, '11': 313, '01': 66}),\n",
       "  'Clicks_0110': array(['01', '11', '01', ..., '10', '10', '01'], dtype='<U2'),\n",
       "  'Counts_0110': Counter({'01': 3762, '11': 2119, '10': 1643, '00': 2476}),\n",
       "  'Clicks_1010': array(['10', '01', '01', ..., '10', '11', '11'], dtype='<U2'),\n",
       "  'Counts_1010': Counter({'10': 1423, '01': 3945, '11': 2359, '00': 2273}),\n",
       "  'Clicks_1110': array(['10', '11', '00', ..., '00', '10', '00'], dtype='<U2'),\n",
       "  'Counts_1110': Counter({'10': 2024, '11': 3622, '00': 2449, '01': 1905}),\n",
       "  'Clicks_Singles': array(['11', '10', '11', ..., '01', '10', '10'], dtype='<U2'),\n",
       "  'Counts_Singles': Counter({'11': 5178, '10': 3168, '01': 1033, '00': 621}),\n",
       "  'Result': {'g12': {'val': 0.9751132843206706,\n",
       "    'ci': [0.8539603584526696, 1.1032050524782449]},\n",
       "   'g23': {'val': 0.2075712468726914,\n",
       "    'ci': [0.15037399726731698, 0.2656496499926291]},\n",
       "   'g31': {'val': 0.2698531533131142,\n",
       "    'ci': [0.2060797926386252, 0.33979884046070896]},\n",
       "   'f': {'val': 0.9575129499433038,\n",
       "    'ci': [0.754383710628311, 1.2096395683645116]},\n",
       "   'k': {'val': -0.0545, 'ci': [-0.0934, -0.0114]}}}}"
      ]
     },
     "execution_count": 182,
     "metadata": {},
     "output_type": "execute_result"
    }
   ],
   "source": [
    "states[0]"
   ]
  },
  {
   "cell_type": "code",
   "execution_count": 184,
   "metadata": {},
   "outputs": [],
   "source": [
    "with open('States_used_in_manuscript_plots_19_oct.pkl', 'wb') as file:\n",
    "    pickle.dump([good_qubits, states], file)"
   ]
  },
  {
   "cell_type": "code",
   "execution_count": 183,
   "metadata": {},
   "outputs": [
    {
     "data": {
      "text/plain": [
       "{'Edge': Edge(targets=(23, 24), type=None, dead=False, gates=[GateInfo(operator='CZ', parameters=[], arguments=['_', '_'], duration=200, fidelity=0.9762620340466897), GateInfo(operator='CPHASE', parameters=['theta'], arguments=['_', '_'], duration=200, fidelity=0.8943444553858335), GateInfo(operator='XY', parameters=['theta'], arguments=['_', '_'], duration=200, fidelity=0.9695186079385717)]),\n",
       " 'Qubit1': Qubit(id=23, type=None, dead=False, gates=[MeasureInfo(operator='MEASURE', qubit=23, target='_', duration=2000, fidelity=0.9789999999999999), MeasureInfo(operator='MEASURE', qubit=23, target=None, duration=2000, fidelity=0.9789999999999999), GateInfo(operator='RZ', parameters=['_'], arguments=[23], duration=0.01, fidelity=1.0), GateInfo(operator='RX', parameters=[0.0], arguments=[23], duration=50, fidelity=1.0), GateInfo(operator='RX', parameters=[3.141592653589793], arguments=[23], duration=50, fidelity=0.9992947355694914), GateInfo(operator='RX', parameters=[-3.141592653589793], arguments=[23], duration=50, fidelity=0.9992947355694914), GateInfo(operator='RX', parameters=[1.5707963267948966], arguments=[23], duration=50, fidelity=0.9992947355694914), GateInfo(operator='RX', parameters=[-1.5707963267948966], arguments=[23], duration=50, fidelity=0.9992947355694914)]),\n",
       " 'Qubit2': Qubit(id=24, type=None, dead=False, gates=[MeasureInfo(operator='MEASURE', qubit=24, target='_', duration=2000, fidelity=0.982), MeasureInfo(operator='MEASURE', qubit=24, target=None, duration=2000, fidelity=0.982), GateInfo(operator='RZ', parameters=['_'], arguments=[24], duration=0.01, fidelity=1.0), GateInfo(operator='RX', parameters=[0.0], arguments=[24], duration=50, fidelity=1.0), GateInfo(operator='RX', parameters=[3.141592653589793], arguments=[24], duration=50, fidelity=0.9992878727851684), GateInfo(operator='RX', parameters=[-3.141592653589793], arguments=[24], duration=50, fidelity=0.9992878727851684), GateInfo(operator='RX', parameters=[1.5707963267948966], arguments=[24], duration=50, fidelity=0.9992878727851684), GateInfo(operator='RX', parameters=[-1.5707963267948966], arguments=[24], duration=50, fidelity=0.9992878727851684)])}"
      ]
     },
     "execution_count": 183,
     "metadata": {},
     "output_type": "execute_result"
    }
   ],
   "source": [
    "good_qubits"
   ]
  },
  {
   "cell_type": "code",
   "execution_count": 2,
   "metadata": {},
   "outputs": [],
   "source": [
    "with open('States_used_in_manuscript_plots_19_oct.pkl', 'rb') as file:\n",
    "    loaded_data = pickle.load(file)"
   ]
  },
  {
   "cell_type": "code",
   "execution_count": 3,
   "metadata": {},
   "outputs": [],
   "source": [
    "good_qubits, states = loaded_data[0], loaded_data[1]"
   ]
  },
  {
   "cell_type": "code",
   "execution_count": 4,
   "metadata": {},
   "outputs": [
    {
     "data": {
      "text/plain": [
       "{'State_params': [(2.330122754090235, 5.081175731474043),\n",
       "  (1.8414099326149804, 0.12900512482079862)],\n",
       " 'Theory': {'g12': {'val': 0.9927011093614654,\n",
       "   'ci': [0.8660820800899925, 1.12930435952464]},\n",
       "  'g23': {'val': 0.23678871277151303,\n",
       "   'ci': [0.174455895670337, 0.29833712794742495]},\n",
       "  'g31': {'val': 0.3605298840853403,\n",
       "   'ci': [0.28671583340515816, 0.4363240285931435]},\n",
       "  'f': {'val': 1.0085053255849705,\n",
       "   'ci': [0.7842498935582382, 1.2718704026930259]},\n",
       "  'k': {'val': 0.0005429000000000003, 'ci': [-0.0403, 0.0383]}},\n",
       " 'Aspen-9': {'Clicks_1100': array(['10', '10', '10', ..., '00', '11', '00'], dtype='<U2'),\n",
       "  'Counts_1100': Counter({'10': 7715, '00': 1730, '11': 452, '01': 103}),\n",
       "  'Clicks_0110': array(['00', '10', '10', ..., '11', '10', '01'], dtype='<U2'),\n",
       "  'Counts_0110': Counter({'00': 2511, '10': 1694, '11': 1936, '01': 3859}),\n",
       "  'Clicks_1010': array(['00', '11', '00', ..., '01', '11', '10'], dtype='<U2'),\n",
       "  'Counts_1010': Counter({'00': 2378, '11': 2362, '10': 1443, '01': 3817}),\n",
       "  'Clicks_1110': array(['11', '10', '00', ..., '10', '10', '01'], dtype='<U2'),\n",
       "  'Counts_1110': Counter({'11': 3071, '10': 1763, '00': 3046, '01': 2120}),\n",
       "  'Clicks_Singles': array(['11', '11', '11', ..., '10', '10', '10'], dtype='<U2'),\n",
       "  'Counts_Singles': Counter({'11': 5007, '01': 1159, '00': 709, '10': 3125}),\n",
       "  'Result': {'g12': {'val': 0.8781086032485234},\n",
       "   'g23': {'val': 0.19389188700960377},\n",
       "   'g31': {'val': 0.30970826620409747},\n",
       "   'f': {'val': 0.7991272900742459},\n",
       "   'k': {'val': 0.0893}}},\n",
       " 'noisy-2q-qvm': {'Clicks_1100': array(['10', '10', '10', ..., '10', '10', '10'], dtype='<U2'),\n",
       "  'Counts_1100': Counter({'10': 8013, '00': 1608, '11': 313, '01': 66}),\n",
       "  'Clicks_0110': array(['01', '11', '01', ..., '10', '10', '01'], dtype='<U2'),\n",
       "  'Counts_0110': Counter({'01': 3762, '11': 2119, '10': 1643, '00': 2476}),\n",
       "  'Clicks_1010': array(['10', '01', '01', ..., '10', '11', '11'], dtype='<U2'),\n",
       "  'Counts_1010': Counter({'10': 1423, '01': 3945, '11': 2359, '00': 2273}),\n",
       "  'Clicks_1110': array(['10', '11', '00', ..., '00', '10', '00'], dtype='<U2'),\n",
       "  'Counts_1110': Counter({'10': 2024, '11': 3622, '00': 2449, '01': 1905}),\n",
       "  'Clicks_Singles': array(['11', '10', '11', ..., '01', '10', '10'], dtype='<U2'),\n",
       "  'Counts_Singles': Counter({'11': 5178, '10': 3168, '01': 1033, '00': 621}),\n",
       "  'Result': {'g12': {'val': 0.9751132843206706,\n",
       "    'ci': [0.8539603584526696, 1.1032050524782449]},\n",
       "   'g23': {'val': 0.2075712468726914,\n",
       "    'ci': [0.15037399726731698, 0.2656496499926291]},\n",
       "   'g31': {'val': 0.2698531533131142,\n",
       "    'ci': [0.2060797926386252, 0.33979884046070896]},\n",
       "   'f': {'val': 0.9575129499433038,\n",
       "    'ci': [0.754383710628311, 1.2096395683645116]},\n",
       "   'k': {'val': -0.0545, 'ci': [-0.0934, -0.0114]}}}}"
      ]
     },
     "execution_count": 4,
     "metadata": {},
     "output_type": "execute_result"
    }
   ],
   "source": [
    "states[0]"
   ]
  },
  {
   "cell_type": "code",
   "execution_count": 35,
   "metadata": {},
   "outputs": [
    {
     "data": {
      "text/plain": [
       "<matplotlib.legend.Legend at 0x7f1b515ad2e0>"
      ]
     },
     "execution_count": 35,
     "metadata": {},
     "output_type": "execute_result"
    },
    {
     "data": {
      "image/png": "[encoded data removed]",
      "text/plain": [
       "<Figure size 432x288 with 1 Axes>"
      ]
     },
     "metadata": {
      "needs_background": "light"
     },
     "output_type": "display_data"
    }
   ],
   "source": [
    "quant = 'f'\n",
    "# states = chosen_states\n",
    "fth = np.array([states[i]['Theory'][quant]['val'] for i in range(len(states))])\n",
    "fthci = np.array([states[i]['Theory'][quant]['ci'] for i in range(len(states))])\n",
    "\n",
    "# f2q = np.array([states[i]['2q-qvm']['Result'][quant]['val'] for i in range(len(states))])\n",
    "# f2qci = np.array([states[i]['2q-qvm']['Result'][quant]['ci'] for i in range(len(states))])\n",
    "\n",
    "fnq = np.array([states[i]['noisy-2q-qvm']['Result'][quant]['val'] for i in range(len(states))])\n",
    "fnqci = np.array([states[i]['noisy-2q-qvm']['Result'][quant]['ci'] for i in range(len(states))])\n",
    "\n",
    "fas = np.array([states[i]['Aspen-9']['Result'][quant]['val'] for i in range(len(states))])\n",
    "# fnq = np.array([states[i]['noisy-2q-qvm']['Result'][quant]['val'] for i in range(len(states))])\n",
    "fasci = np.array([states[i]['Aspen-9']['Result'][quant]['ci'] for i in range(len(states))])\n",
    "\n",
    "x = np.arange(len(states))\n",
    "\n",
    "plt.rcParams.update({\n",
    "    \"text.usetex\": True,\n",
    "    \"font.family\": \"serif\",\n",
    "    \"font.sans-serif\": [\"Helvetica\"]})\n",
    "\n",
    "plt.errorbar(x, fth, yerr=[fth-fthci[:,0], fthci[:,1]-fth], marker=\"\", ls=\"\", capsize=4, label='Statistical error-bars', color='blue')\n",
    "# plt.errorbar(x, f2q, yerr=[f2q-f2qci[:,0], f2qci[:,1]-f2q], marker=\"o\", ls=\"\", capsize=4)\n",
    "plt.errorbar(x, fas, yerr=[fas-fasci[:,0], fasci[:,1]-fas], marker=\"o\", ls=\"\", capsize=4, label='Aspen-9', color='darkgreen')\n",
    "plt.errorbar(x, fnq, yerr=[fnq-fnqci[:,0], fnqci[:,1]-fnq], marker=\"o\", ls=\"\", capsize=4, label='Noisy-QVM', color='maroon')\n",
    "# plt.plot(x, fas, 'o', label='Aspen-9')\n",
    "# plt.plot(x, fnq, 'o')\n",
    "\n",
    "\n",
    "plt.axhline(y=1, ls='dashed', color='red')\n",
    "# plt.axhline(y=-1, ls='dashed', color='red')\n",
    "# plt.axhline(y=0, ls='dashed', color='red')\n",
    "\n",
    "# plt.xlabel('Iterations', size=22)\n",
    "plt.ylabel('$F$', size=24)\n",
    "\n",
    "# plt.xticks(size=16)\n",
    "plt.xticks([])\n",
    "plt.yticks(size=16)\n",
    "\n",
    "plt.xlim([0.5,9.5])\n",
    "\n",
    "plt.legend(loc='upper right', fontsize=15)#, bbox_to_anchor=(1,1))\n",
    "\n",
    "# plt.savefig('f_one_shot_latest_21_oct.pdf', bbox_inches='tight')\n",
    "\n",
    "# plt.show()"
   ]
  },
  {
   "cell_type": "code",
   "execution_count": 39,
   "metadata": {},
   "outputs": [
    {
     "data": {
      "text/plain": [
       "{'State_params': [(2.330122754090235, 5.081175731474043),\n",
       "  (1.8414099326149804, 0.12900512482079862)],\n",
       " 'Theory': {'g12': {'val': 0.9928516034069315,\n",
       "   'ci': [0.8173657657387472, 1.1800682665817028]},\n",
       "  'g23': {'val': 0.2371864793418791,\n",
       "   'ci': [0.1632692476134432, 0.31627472785479016]},\n",
       "  'g31': {'val': 0.36144763372542227,\n",
       "   'ci': [0.262689216358827, 0.4653383834432615]},\n",
       "  'f': {'val': 1.0088539733637945,\n",
       "   'ci': [0.7223224310825559, 1.379182767595623]},\n",
       "  'k': {'val': -0.0006071000000000008, 'ci': [-0.0486, 0.0485]}},\n",
       " 'Aspen-9': {'Clicks_1100': array(['10', '10', '10', ..., '00', '11', '00'], dtype='<U2'),\n",
       "  'Counts_1100': Counter({'10': 7715, '00': 1730, '11': 452, '01': 103}),\n",
       "  'Clicks_0110': array(['00', '10', '10', ..., '11', '10', '01'], dtype='<U2'),\n",
       "  'Counts_0110': Counter({'00': 2511, '10': 1694, '11': 1936, '01': 3859}),\n",
       "  'Clicks_1010': array(['00', '11', '00', ..., '01', '11', '10'], dtype='<U2'),\n",
       "  'Counts_1010': Counter({'00': 2378, '11': 2362, '10': 1443, '01': 3817}),\n",
       "  'Clicks_1110': array(['11', '10', '00', ..., '10', '10', '01'], dtype='<U2'),\n",
       "  'Counts_1110': Counter({'11': 3071, '10': 1763, '00': 3046, '01': 2120}),\n",
       "  'Clicks_Singles': array(['11', '11', '11', ..., '10', '10', '10'], dtype='<U2'),\n",
       "  'Counts_Singles': Counter({'11': 5007, '01': 1159, '00': 709, '10': 3125}),\n",
       "  'Result': {'g12': {'val': 0.8781086032485234,\n",
       "    'ci': [0.7732286398329311, 0.9976155384225511]},\n",
       "   'g23': {'val': 0.19389188700960377,\n",
       "    'ci': [0.14130060788073778, 0.24531171786381753]},\n",
       "   'g31': {'val': 0.30970826620409747,\n",
       "    'ci': [0.2345978542394114, 0.3839180154058312]},\n",
       "   'f': {'val': 0.7991272900742459,\n",
       "    'ci': [0.6307162007460653, 1.0173053573031947]},\n",
       "   'k': {'val': 0.0893, 'ci': [0.047, 0.1314]}}},\n",
       " 'noisy-2q-qvm': {'Clicks_1100': array(['10', '10', '10', ..., '10', '10', '10'], dtype='<U2'),\n",
       "  'Counts_1100': Counter({'10': 8013, '00': 1608, '11': 313, '01': 66}),\n",
       "  'Clicks_0110': array(['01', '11', '01', ..., '10', '10', '01'], dtype='<U2'),\n",
       "  'Counts_0110': Counter({'01': 3762, '11': 2119, '10': 1643, '00': 2476}),\n",
       "  'Clicks_1010': array(['10', '01', '01', ..., '10', '11', '11'], dtype='<U2'),\n",
       "  'Counts_1010': Counter({'10': 1423, '01': 3945, '11': 2359, '00': 2273}),\n",
       "  'Clicks_1110': array(['10', '11', '00', ..., '00', '10', '00'], dtype='<U2'),\n",
       "  'Counts_1110': Counter({'10': 2024, '11': 3622, '00': 2449, '01': 1905}),\n",
       "  'Clicks_Singles': array(['11', '10', '11', ..., '01', '10', '10'], dtype='<U2'),\n",
       "  'Counts_Singles': Counter({'11': 5178, '10': 3168, '01': 1033, '00': 621}),\n",
       "  'Result': {'g12': {'val': 0.9751132843206706,\n",
       "    'ci': [0.8539603584526696, 1.1032050524782449]},\n",
       "   'g23': {'val': 0.2075712468726914,\n",
       "    'ci': [0.15037399726731698, 0.2656496499926291]},\n",
       "   'g31': {'val': 0.2698531533131142,\n",
       "    'ci': [0.2060797926386252, 0.33979884046070896]},\n",
       "   'f': {'val': 0.9575129499433038,\n",
       "    'ci': [0.754383710628311, 1.2096395683645116]},\n",
       "   'k': {'val': -0.0545, 'ci': [-0.0934, -0.0114]}}}}"
      ]
     },
     "execution_count": 39,
     "metadata": {},
     "output_type": "execute_result"
    }
   ],
   "source": [
    "states[0]"
   ]
  },
  {
   "cell_type": "code",
   "execution_count": null,
   "metadata": {},
   "outputs": [],
   "source": []
  }
 ],
 "metadata": {
  "kernelspec": {
   "display_name": "Python 3",
   "language": "python",
   "name": "python3"
  },
  "language_info": {
   "codemirror_mode": {
    "name": "ipython",
    "version": 3
   },
   "file_extension": ".py",
   "mimetype": "text/x-python",
   "name": "python",
   "nbconvert_exporter": "python",
   "pygments_lexer": "ipython3",
   "version": "3.8.6"
  }
 },
 "nbformat": 4,
 "nbformat_minor": 4
}
