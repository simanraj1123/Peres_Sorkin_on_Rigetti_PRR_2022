{
 "cells": [
  {
   "cell_type": "markdown",
   "metadata": {},
   "source": [
    "# Born test\n",
    "\n",
    "Detail: Program to test the Born's rule on a quantum computer, using Rigetti's pyQuil platform and Aspen-9 quantum computer.\n",
    "\n",
    "Author of the code: Simanraj Sadana\n",
    "\n",
    "Email: simanrajsadana@gmail.com"
   ]
  },
  {
   "cell_type": "markdown",
   "metadata": {},
   "source": [
    "## Importing libraries"
   ]
  },
  {
   "cell_type": "code",
   "execution_count": 67,
   "metadata": {},
   "outputs": [],
   "source": [
    "# Importing essential libraries\n",
    "import numpy as np, matplotlib.pyplot as plt, random, time\n",
    "from functools import lru_cache\n",
    "from pyquil import Program, get_qc\n",
    "from pyquil.gates import *\n",
    "import os\n",
    "from pyquil.quilatom import quil_sin, quil_cos, Parameter\n",
    "from pyquil.quilbase import DefGate\n",
    "from pyquil.latex import display, to_latex\n",
    "# import Peres_helpers as hf\n",
    "import pickle\n",
    "from collections import Counter\n",
    "import time"
   ]
  },
  {
   "cell_type": "markdown",
   "metadata": {},
   "source": [
    "## Generating random angles"
   ]
  },
  {
   "cell_type": "code",
   "execution_count": 68,
   "metadata": {},
   "outputs": [],
   "source": [
    "# Number of shots and z-score for confidence interval\n",
    "N_SHOTS = 10_000\n",
    "Z_SCORE = 3\n",
    "\n",
    "# Generating random angles\n",
    "e=0\n",
    "def params_complex():\n",
    "\t'''\n",
    "\tGenerates parameters to prepare COMPLEX quantum states.\n",
    "    \n",
    "    Returns:\n",
    "        A list of three tuples. The first element of each tuple is the value of theta \n",
    "        and the second element is the value of phi.\n",
    "    \n",
    "\t'''\n",
    "\ttheta = np.arccos(np.cos(e) - 2 * np.array([random.uniform(0,1) for _ in range(2)]))\n",
    "\tphi = np.array([2*np.pi*random.uniform(0,1) for _ in range(2)])\n",
    "\tparams = zip(theta, phi)\n",
    "\treturn list(params)"
   ]
  },
  {
   "cell_type": "markdown",
   "metadata": {},
   "source": [
    "## Circuit construction"
   ]
  },
  {
   "cell_type": "code",
   "execution_count": 69,
   "metadata": {},
   "outputs": [],
   "source": [
    "# Combined circuit for creating and projecting 3-level states\n",
    "def circuit_123(a,b):\n",
    "    '''\n",
    "    Constructs a parametric circuit required for Sorkin's test.\n",
    "    \n",
    "    Input:\n",
    "    a, b: Qubit numbers which are chosen for the circuit.\n",
    "    \n",
    "    Output:\n",
    "    circ: The circuit object.\n",
    "    '''\n",
    "    circ = Program()\n",
    "    \n",
    "    theta = circ.declare('theta', 'REAL', 2)\n",
    "    phi = circ.declare('phi', 'REAL', 2)\n",
    "    t = circ.declare('t', 'REAL', 2)\n",
    "    c = circ.declare('ro', 'BIT', 2)\n",
    "    \n",
    "    circ += RY(theta[0], a)\n",
    "    circ += RZ(phi[0], a)\n",
    "    \n",
    "    circ += RY(theta[1], b)\n",
    "    circ += RZ(phi[1]/2, b)\n",
    "    \n",
    "    circ += CNOT(a, b)\n",
    "    \n",
    "    circ += RZ(-phi[1]/2, b)\n",
    "    circ += RY((t[1]-theta[1])/2, b)\n",
    "    \n",
    "    circ += CNOT(a,b)\n",
    "    \n",
    "    circ += RY((-theta[1] - t[1])/2, b)\n",
    "    \n",
    "    circ += RY(-t[0], a)\n",
    "    \n",
    "    circ += X(a)\n",
    "    \n",
    "    circ += MEASURE(a, c[0])\n",
    "    circ += MEASURE(b, c[1])\n",
    "    \n",
    "    circ.wrap_in_numshots_loop(N_SHOTS)\n",
    "    \n",
    "    return circ"
   ]
  },
  {
   "cell_type": "markdown",
   "metadata": {},
   "source": [
    "## Theoretical probabilities"
   ]
  },
  {
   "cell_type": "code",
   "execution_count": 70,
   "metadata": {},
   "outputs": [],
   "source": [
    "# The theoretical probabilities and kappa\n",
    "def theoretical_probs(u):\n",
    "    '''\n",
    "    Returns the theoretical probabilities of projective measurements required for Sorkin's test \n",
    "    based on the random state chosen.\n",
    "    \n",
    "    Input:\n",
    "    u: A list [(theta_1, phi_1), (theta_2, phi_2)] that are generated randomly.\n",
    "    \n",
    "    Output:\n",
    "    probs: A dictionary of the probabilities of the required projections and the theoretical value of \n",
    "    kappa.\n",
    "    '''\n",
    "    theta, phi = [], []\n",
    "    for i in range(len(u)):\n",
    "        theta.append(u[i][0])\n",
    "        phi.append(u[i][1])\n",
    "        \n",
    "    probs = {\n",
    "        'P_123': (1/3) * np.abs(np.cos(theta[0]/2)*np.exp(-1j*phi[0]/2) + np.sin(theta[0]/2)*np.cos(theta[1]/2)*np.exp(-1j*(phi[1]-phi[0])/2) + np.sin(theta[0]/2)*np.sin(theta[1]/2)*np.exp(1j*(phi[1]+phi[0])/2))**2, \n",
    "        'P_12': (1/2) * np.abs(np.cos(theta[0]/2)*np.exp(-1j*phi[0]/2) + np.sin(theta[0]/2)*np.cos(theta[1]/2)*np.exp(-1j*(phi[1]-phi[0])/2))**2, \n",
    "        'P_23': (1/2) * np.abs(np.sin(theta[0]/2)*np.cos(theta[1]/2)*np.exp(-1j*(phi[1]-phi[0])/2) + np.sin(theta[0]/2)*np.sin(theta[1]/2)*np.exp(1j*(phi[1]+phi[0])/2))**2, \n",
    "        'P_31': (1/2) * np.abs(np.cos(theta[0]/2)*np.exp(-1j*phi[0]/2) + np.sin(theta[0]/2)*np.sin(theta[1]/2)*np.exp(1j*(phi[1]+phi[0])/2))**2, \n",
    "        'P_1': np.cos(theta[0]/2)**2,\n",
    "        'P_2': np.sin(theta[0]/2)**2 * np.cos(theta[1]/2)**2,\n",
    "        'P_3': np.sin(theta[0]/2)**2 * np.sin(theta[1]/2)**2,\n",
    "    }\n",
    "    \n",
    "    probs['Kappa'] = 3 * probs['P_123'] - 2 * (probs['P_12'] + probs['P_23'] + probs['P_31']) + probs['P_1'] + probs['P_2'] + probs['P_3']\n",
    "    \n",
    "    return probs"
   ]
  },
  {
   "cell_type": "markdown",
   "metadata": {},
   "source": [
    "## Theoretical fluctuations due to limited shots"
   ]
  },
  {
   "cell_type": "code",
   "execution_count": 129,
   "metadata": {},
   "outputs": [],
   "source": [
    "# Getting the theoretical fluctuations with 1000 repetitions of the same circuit\n",
    "ci_a = 0.005\n",
    "ci_b = 1 - ci_a\n",
    "def get_ci(states):\n",
    "    ci_list = []\n",
    "    v_list = []\n",
    "    for state in states:\n",
    "        probs = theoretical_probs(state['State_params'])\n",
    "        k_list = []\n",
    "        for i in range(1000):\n",
    "            c123 = Counter(random.choices(['0','1'], weights=[probs['P_123'], 1-probs['P_123']], k=N_SHOTS))['0']\n",
    "            c12 = Counter(random.choices(['0','1'], weights=[probs['P_12'], 1-probs['P_12']], k=N_SHOTS))['0']\n",
    "            c23 = Counter(random.choices(['0','1'], weights=[probs['P_23'], 1-probs['P_23']], k=N_SHOTS))['0']\n",
    "            c31 = Counter(random.choices(['0','1'], weights=[probs['P_31'], 1-probs['P_31']], k=N_SHOTS))['0']\n",
    "            csingles = Counter(random.choices(['0','1','2'], weights=[probs['P_1'], probs['P_2'], probs['P_3']], k=N_SHOTS))\n",
    "\n",
    "            k = 3*c123 - 2*(c12+c23+c31) + csingles['0'] + csingles['1'] + csingles['2']\n",
    "            k_list.append(k/10_000)\n",
    "        \n",
    "        k_list.sort()\n",
    "#         ci = [k_list[int(ci_a*len(k_list))], k_list[int(ci_b*len(k_list)) - 1]]#\n",
    "        ci = [k_list[int(0+ci_a*len(k_list))], k_list[int(len(k_list) - 1 - ci_a*len(k_list))]]\n",
    "        # ci = [k_list[int(0.00*len(k_list))], k_list[int(1*(len(k_list)-1))]]\n",
    "        ci_list.append(ci)\n",
    "        state['Theory'] = {}\n",
    "        state['Theory']['k'] = (ci[0] + ci[1])/2\n",
    "        state['Theory']['ci'] = ci\n",
    "        v_list.append(max(k_list))\n",
    "\n",
    "    return states"
   ]
  },
  {
   "cell_type": "markdown",
   "metadata": {},
   "source": [
    "## Bootstrapped CI for results from circuit-runs"
   ]
  },
  {
   "cell_type": "code",
   "execution_count": 72,
   "metadata": {},
   "outputs": [],
   "source": [
    "# Getting bootstrapped confidence intervals of the circuit outcomes\n",
    "def get_boot_ci(states, engine):\n",
    "    for state in states:\n",
    "        k_boot = []\n",
    "        for i in range(1000):\n",
    "            sample_123 = state[engine]['Clicks_123']\n",
    "            sample_12 = state[engine]['Clicks_12']\n",
    "            sample_23 = state[engine]['Clicks_23']\n",
    "            sample_31 = state[engine]['Clicks_31']\n",
    "            sample_Singles = state[engine]['Clicks_Singles']\n",
    "\n",
    "            counts_123 = Counter(np.random.choice(sample_123, len(sample_123)))\n",
    "            counts_12 = Counter(np.random.choice(sample_12, len(sample_12)))\n",
    "            counts_23 = Counter(np.random.choice(sample_23, len(sample_23)))\n",
    "            counts_31 = Counter(np.random.choice(sample_31, len(sample_31)))\n",
    "            counts_Singles = Counter(np.random.choice(sample_Singles, len(sample_Singles)))\n",
    "\n",
    "\n",
    "            k = 3*counts_123['10'] - 2*(counts_12['10'] + counts_23['10'] + counts_31['10']) + counts_Singles['00'] + counts_Singles['01'] + counts_Singles['10']\n",
    "            k = k/N_SHOTS\n",
    "            k_boot.append(k)\n",
    "\n",
    "        k_boot.sort()\n",
    "\n",
    "    #     state[engine]['Result']['g12']['ci']\n",
    "        state[engine]['k']['ci'] =[k_boot[int(0+ci_a*len(k_boot))], k_boot[int(len(k_boot) - 1 - ci_a*len(k_boot))]]\n",
    "\n",
    "    #     state[engine]['CI'] = {'g12': g12_cf, 'g23': g23_cf, 'g31': g31_cf, 'f': f_cf, 'k': k_cf}\n",
    "\n",
    "        print(f'Done with state no. {states.index(state)}', end='\\r')\n",
    "    return states\n"
   ]
  },
  {
   "cell_type": "markdown",
   "metadata": {},
   "source": [
    "## Function for getting good qubits"
   ]
  },
  {
   "cell_type": "code",
   "execution_count": 73,
   "metadata": {},
   "outputs": [],
   "source": [
    "# Getting good qubits and edges\n",
    "def get_good_qbits(cz_fid, meas_fid):\n",
    "    '''\n",
    "    Finds the best pair of qubits given the lower-bound on the fidelities of CZ and MEASURE operation.\n",
    "    \n",
    "    Input: \n",
    "    cz_fid: The lower-bound on fidelity of CZ gate\n",
    "    meas_fid: The lower-bound on fidelity of MEASURE operation\n",
    "    \n",
    "    Output:\n",
    "    good_qubits: A list of good qubits with details of fidelities.\n",
    "    \n",
    "    '''\n",
    "    # Initialise Aspen-9 machine\n",
    "    qc = get_qc('Aspen-9')\n",
    "    \n",
    "    # Get the details of qubits and edges\n",
    "    details = qc.device.get_isa()\n",
    "\n",
    "    good_edges = [] # To store the details of good qubits.\n",
    "    \n",
    "    # Looping through all the edges to find the edge with max-fidelity CZ-gate\n",
    "    for edge in details.edges:\n",
    "        # Getting the list of gates supported by the edge\n",
    "        gates = edge.gates\n",
    "        # Looping through the list of gates\n",
    "        for gate in gates:\n",
    "            # Picking the CZ gate\n",
    "            if gate.operator == 'CZ':\n",
    "                # Checking if the gate-fidelity is above the threshold.\n",
    "                # The try-except statement will prevent the program from terminating if CZ is not supported by the edge.\n",
    "                try:\n",
    "                    if gate.fidelity > cz_fid:\n",
    "                        good_edges.append(edge)\n",
    "                except TypeError:\n",
    "                    continue\n",
    "    good_qubits = {} # A dictionary to store the details of good qubits in organised form\n",
    "    \n",
    "    # Looping through the list of good edges to pick the ones with qubits with MEASURE-fidelity above the threshold.\n",
    "    for edge in good_edges[:]:\n",
    "        # Getting the qubit objects from the edge object so that we check only those qubits for which the edge satisfies the condition\n",
    "        q1, q2 = edge.targets\n",
    "        # Looping through the list of qubits available\n",
    "        for q in details.qubits:\n",
    "            # Checking if the qubit is present in the list of good edges\n",
    "            if q.id in [q1,q2]:\n",
    "                # Getting the list of gates supported by the chosen qubit\n",
    "                gates = q.gates\n",
    "                # Looping through the list of gates.\n",
    "                for gate in gates:\n",
    "                    # Picking the MEASURE gate\n",
    "                    if gate.operator == 'MEASURE':\n",
    "                        # Checking if the measure-fidelity is below the threshold.\n",
    "                        # If yes, then the corresponding edge is removed from the list of good edges, leaving only the good-qubit-edges.\n",
    "                        if gate.fidelity < meas_fid:\n",
    "                            try:\n",
    "                                good_edges.remove(edge)\n",
    "                            except ValueError:\n",
    "#                                 print('Edge already removed')\n",
    "                                continue\n",
    "    good_qubits = [] # To store the good qubits with details.\n",
    "    \n",
    "    # Looping through the list of good-edges\n",
    "    for edge in good_edges:\n",
    "        # Getting the target qubits of the corresponding edge\n",
    "        q1, q2 = edge.targets\n",
    "        # Storing the details of the edge in dictionary form.\n",
    "        good_qubits.append({'Edge': edge})\n",
    "        \n",
    "        # Storing the details of the qubits in dictionary form.\n",
    "        for q in details.qubits:\n",
    "            if q.id == q1:\n",
    "                good_qubits[-1]['Qubit1'] = q\n",
    "            elif q.id == q2:\n",
    "                good_qubits[-1]['Qubit2'] = q\n",
    "    return good_qubits"
   ]
  },
  {
   "cell_type": "markdown",
   "metadata": {},
   "source": [
    "## Getting good qubits and edges"
   ]
  },
  {
   "cell_type": "code",
   "execution_count": 111,
   "metadata": {},
   "outputs": [
    {
     "name": "stdout",
     "output_type": "stream",
     "text": [
      "(21, 36)\n",
      "MeasureInfo(operator='MEASURE', qubit=21, target='_', duration=2000, fidelity=0.973)\n",
      "MeasureInfo(operator='MEASURE', qubit=36, target='_', duration=2000, fidelity=0.9620000000000001)\n",
      "GateInfo(operator='CZ', parameters=[], arguments=['_', '_'], duration=200, fidelity=0.9736065352398284)\n",
      "\n",
      "(35, 36)\n",
      "MeasureInfo(operator='MEASURE', qubit=35, target='_', duration=2000, fidelity=0.968)\n",
      "MeasureInfo(operator='MEASURE', qubit=36, target='_', duration=2000, fidelity=0.9620000000000001)\n",
      "GateInfo(operator='CZ', parameters=[], arguments=['_', '_'], duration=200, fidelity=0.9716099672423921)\n",
      "\n"
     ]
    }
   ],
   "source": [
    "# Get the good qubits\n",
    "good_bits = get_good_qbits(0.96, 0.96)#(0.97, 0.96)\n",
    "\n",
    "# Displaying the details of the gate fidelities of the returned qubits.\n",
    "for bits in good_bits:\n",
    "    print(bits['Edge'].targets)\n",
    "    print(bits['Qubit1'].gates[0])\n",
    "    print(bits['Qubit2'].gates[0])\n",
    "    print(bits['Edge'].gates[0], end='\\n\\n')"
   ]
  },
  {
   "cell_type": "markdown",
   "metadata": {},
   "source": [
    "## Choosing from the list of good qubits"
   ]
  },
  {
   "cell_type": "code",
   "execution_count": 112,
   "metadata": {},
   "outputs": [],
   "source": [
    "good_qubits = good_bits[0]"
   ]
  },
  {
   "cell_type": "markdown",
   "metadata": {},
   "source": [
    "## Generating a list of random states"
   ]
  },
  {
   "cell_type": "code",
   "execution_count": 130,
   "metadata": {},
   "outputs": [],
   "source": [
    "with open('state_params_3_with_aspen.pkl', 'rb') as file:\n",
    "    good_qubits, states = pickle.load(file)\n",
    "# Generate random states\n",
    "# states = [{'State_params': params_complex()} for _ in range(10)]\n",
    "# with open('state_params_3.pkl', 'wb') as file:\n",
    "#     pickle.dump((good_qubits, states), file)\n",
    "states = get_ci(states)"
   ]
  },
  {
   "cell_type": "markdown",
   "metadata": {},
   "source": [
    "## Getting the theoretical values and fluctuations from probability functions"
   ]
  },
  {
   "cell_type": "code",
   "execution_count": 118,
   "metadata": {},
   "outputs": [
    {
     "data": {
      "text/plain": [
       "<matplotlib.lines.Line2D at 0x7fa9e14130a0>"
      ]
     },
     "execution_count": 118,
     "metadata": {},
     "output_type": "execute_result"
    },
    {
     "data": {
      "image/png": "[encoded data removed]",
      "text/plain": [
       "<Figure size 432x288 with 1 Axes>"
      ]
     },
     "metadata": {
      "needs_background": "light"
     },
     "output_type": "display_data"
    }
   ],
   "source": [
    "x = np.arange(len(states))\n",
    "y = np.array([states[i]['Theory']['k'] for i in range(len(states))])\n",
    "yerr = np.array([states[i]['Theory']['ci'] for i in range(len(states))])\n",
    "\n",
    "plt.errorbar(x, y, yerr=[y - yerr[:,0], yerr[:,1] - y], marker='o')\n",
    "plt.axhline(y=0, ls='dashed', color='red')"
   ]
  },
  {
   "cell_type": "markdown",
   "metadata": {},
   "source": [
    "## Function for running the circuit"
   ]
  },
  {
   "cell_type": "code",
   "execution_count": 93,
   "metadata": {},
   "outputs": [],
   "source": [
    "def run_circuit(states, engine):\n",
    "    '''\n",
    "    Compile and run the circuit given the parameters. The list of outputs is returned.\n",
    "    '''\n",
    "    for state in states:\n",
    "        state[engine] = {}\n",
    "        theta, phi = tuple(map(list, zip(*state['State_params'])))\n",
    "   \n",
    "        t = [2 * np.arccos(1/np.sqrt(3)), 2 * np.arccos(1/np.sqrt(2))]\n",
    "        clicks = qc.run(exe, memory_map={'theta': theta, 'phi': phi, 't': t}) # Stores the output of the circuit run.\n",
    "        clicks = [''.join(list(map(str, x))) for x in clicks]\n",
    "        state[engine]['Clicks_123'] = np.array(clicks)\n",
    "        state[engine]['Counts_123'] = Counter(clicks)['10']\n",
    "#         outcomes['P_123'] = Counter(tmp)['00']\n",
    "\n",
    "        t = [np.pi/2, 0]\n",
    "        clicks = qc.run(exe, memory_map={'theta': theta, 'phi': phi, 't': t}) # Stores the output of the circuit run.\n",
    "        clicks = [''.join(list(map(str, x))) for x in clicks]\n",
    "        state[engine]['Clicks_12'] = np.array(clicks)\n",
    "        state[engine]['Counts_12'] = Counter(clicks)['10']\n",
    "#         outcomes['P_12'] = Counter(tmp)['00']\n",
    "\n",
    "        t = [np.pi, np.pi/2]\n",
    "        clicks = qc.run(exe, memory_map={'theta': theta, 'phi': phi, 't': t}) # Stores the output of the circuit run.\n",
    "        clicks = [''.join(list(map(str, x))) for x in clicks]\n",
    "        state[engine]['Clicks_23'] = np.array(clicks)\n",
    "        state[engine]['Counts_23'] = Counter(clicks)['10']\n",
    "#         outcomes['P_23'] = Counter(tmp)['00']\n",
    "\n",
    "        t = [np.pi/2, np.pi]\n",
    "        clicks = qc.run(exe, memory_map={'theta': theta, 'phi': phi, 't': t}) # Stores the output of the circuit run.\n",
    "        clicks = [''.join(list(map(str, x))) for x in clicks]\n",
    "        state[engine]['Clicks_31'] = np.array(clicks)\n",
    "        state[engine]['Counts_31'] = Counter(clicks)['10']\n",
    "#         outcomes['P_31'] = Counter(tmp)['00']\n",
    "\n",
    "        t = [0, 0]\n",
    "        clicks = qc.run(exe, memory_map={'theta': theta, 'phi': phi, 't': t})\n",
    "        clicks = [''.join(list(map(str, x))) for x in clicks]\n",
    "        state[engine]['Clicks_Singles'] = np.array(clicks)\n",
    "        state[engine]['Counts_Singles'] = Counter(clicks)\n",
    "#         outcomes['Singles'] = Counter(tmp)\n",
    "        state[engine]['k'] = {}\n",
    "        state[engine]['k']['val'] = (3*state[engine]['Counts_123'] - 2*(state[engine]['Counts_12']+state[engine]['Counts_23']+state[engine]['Counts_31']) + state[engine]['Counts_Singles']['00'] + state[engine]['Counts_Singles']['10'] + state[engine]['Counts_Singles']['01']) / N_SHOTS\n",
    "    \n",
    "    return states"
   ]
  },
  {
   "cell_type": "markdown",
   "metadata": {},
   "source": [
    "## Initialising the circuit"
   ]
  },
  {
   "cell_type": "code",
   "execution_count": 132,
   "metadata": {},
   "outputs": [
    {
     "name": "stdout",
     "output_type": "stream",
     "text": [
      "Qubits used are 21 and 36\n",
      "Engine used: 2q-qvm\n"
     ]
    }
   ],
   "source": [
    "q1, q2 = good_qubits['Qubit1'].id, good_qubits['Qubit2'].id # Qubit IDs\n",
    "print(f'Qubits used are {q1} and {q2}')\n",
    "engine = '2q-qvm'\n",
    "# engine = 'Aspen-9'\n",
    "print(f'Engine used: {engine}')\n",
    "\n",
    "circ = circuit_123(q1,q2)\n",
    "qc = get_qc(engine)\n",
    "exe = qc.compile(circ)"
   ]
  },
  {
   "cell_type": "markdown",
   "metadata": {},
   "source": [
    "## Running the circuit"
   ]
  },
  {
   "cell_type": "code",
   "execution_count": 186,
   "metadata": {},
   "outputs": [],
   "source": [
    "states = run_circuit(states, engine)"
   ]
  },
  {
   "cell_type": "code",
   "execution_count": 116,
   "metadata": {},
   "outputs": [],
   "source": [
    "# with open('state_params_3_with_aspen.pkl', 'wb') as file:\n",
    "#     pickle.dump((good_qubits, states), file)"
   ]
  },
  {
   "cell_type": "markdown",
   "metadata": {},
   "source": [
    "## Getting bootstrapped CIs of the result"
   ]
  },
  {
   "cell_type": "code",
   "execution_count": 211,
   "metadata": {},
   "outputs": [
    {
     "name": "stdout",
     "output_type": "stream",
     "text": [
      "Done with state no. 9\r"
     ]
    }
   ],
   "source": [
    "#states = get_boot_ci(states, engine)\n",
    "states = get_boot_ci(states, 'Aspen-9')"
   ]
  },
  {
   "cell_type": "markdown",
   "metadata": {},
   "source": [
    "## Plotting the results"
   ]
  },
  {
   "cell_type": "code",
   "execution_count": 222,
   "metadata": {},
   "outputs": [
    {
     "data": {
      "image/png": "[encoded data removed]",
      "text/plain": [
       "<Figure size 432x288 with 1 Axes>"
      ]
     },
     "metadata": {
      "needs_background": "light"
     },
     "output_type": "display_data"
    }
   ],
   "source": [
    "kth = np.array([states[i]['Theory']['k'] for i in range(len(states))])\n",
    "kthci = np.array([states[i]['Theory']['ci'] for i in range(len(states))])\n",
    "\n",
    "k2q = np.array([states[i]['2q-qvm']['k']['val'] for i in range(len(states))])\n",
    "# k2qci = np.array([states[i]['2q-qvm']['k']['ci'] for i in range(len(states))])\n",
    "\n",
    "kas = np.array([states[i]['Aspen-9']['k']['val'] for i in range(len(states))])\n",
    "kasci = np.array([states[i]['Aspen-9']['k']['ci'] for i in range(len(states))])\n",
    "\n",
    "knq = np.array([states[i]['noisy-2q-qvm']['k']['val'] for i in range(len(states))])\n",
    "knqci = np.array([states[i]['noisy-2q-qvm']['k']['ci'] for i in range(len(states))])\n",
    "\n",
    "x = np.arange(len(states))\n",
    "\n",
    "plt.rcParams.update({\n",
    "    \"text.usetex\": True,\n",
    "    \"font.family\": \"serif\",\n",
    "    \"font.sans-serif\": [\"Helvetica\"]})\n",
    "\n",
    "plt.plot(x, k2q, '*', color=\"blue\", label='Ideal QVM')\n",
    "plt.errorbar(x, kth, yerr=[kth - kthci[:,0], kthci[:,1] - kth], ls='', capsize=5, color='blue', label='Statistical error-bar')\n",
    "# plt.errorbar(x, k2q, yerr=[k2q - k2qci[:,0], k2qci[:,1] - k2q], marker='o', ls='', capsize=4)\n",
    "plt.errorbar(x, knq, yerr=[knq - knqci[:,0], knqci[:,1] - knq], marker='D', ls='', capsize=5, color='maroon', label='Noisy QVM')\n",
    "\n",
    "plt.errorbar(x, kas, yerr=[kas - kasci[:,0], kasci[:,1] - kas], marker='o', ls='', capsize=5, color='darkgreen', label='Aspen-9')\n",
    "\n",
    "# plt.plot(x, kas, 'o', color='darkgreen')\n",
    "\n",
    "plt.axhline(y=0, ls='dashed', color='red')\n",
    "plt.xticks([])\n",
    "# plt.plot(x, k2q, 'o')\n",
    "\n",
    "plt.yticks(size=14)\n",
    "plt.ylabel('$\\kappa$', size=24)\n",
    "\n",
    "plt.legend(fontsize=15)\n",
    "plt.ylim([-0.29, 0.135])\n",
    "\n",
    "plt.savefig('24_oct_Born_plot_for_manuscript.pdf', bbox_inches='tight')\n",
    "# used 0.5 for manuscript\n",
    "plt.show()"
   ]
  },
  {
   "cell_type": "markdown",
   "metadata": {},
   "source": [
    "## states[0]"
   ]
  },
  {
   "cell_type": "code",
   "execution_count": 48,
   "metadata": {},
   "outputs": [],
   "source": [
    "# with open('24_Oct_Born_run_1_Simulation.pkl', 'wb') as file:\n",
    "#     pickle.dump((good_qubits, states), file)"
   ]
  },
  {
   "cell_type": "markdown",
   "metadata": {},
   "source": [
    "# Running on Noisy QVM"
   ]
  },
  {
   "cell_type": "code",
   "execution_count": 145,
   "metadata": {},
   "outputs": [],
   "source": [
    "# Amplitude damping functions\n",
    "def damping_channel(damp_prob):\n",
    "    \"\"\"\n",
    "    Generate the Kraus operators corresponding to an amplitude damping\n",
    "    noise channel.\n",
    "\n",
    "    :params float damp_prob: The one-step damping probability.\n",
    "    :return: A list [k1, k2] of the Kraus operators that parametrize the map.\n",
    "    :rtype: list\n",
    "    \"\"\"\n",
    "    damping_op = np.sqrt(damp_prob) * np.array([[0, 1],\n",
    "                                                [0, 0]])\n",
    "\n",
    "    residual_kraus = np.diag([1, np.sqrt(1-damp_prob)])\n",
    "    return [residual_kraus, damping_op]\n",
    "\n",
    "def append_kraus_to_gate(kraus_ops, g):\n",
    "    \"\"\"\n",
    "    Follow a gate `g` by a Kraus map described by `kraus_ops`.\n",
    "\n",
    "    :param list kraus_ops: The Kraus operators.\n",
    "    :param numpy.ndarray g: The unitary gate.\n",
    "    :return: A list of transformed Kraus operators.\n",
    "    \"\"\"\n",
    "    return [kj.dot(g) for kj in kraus_ops]\n",
    "\n",
    "\n",
    "def append_damping_to_gate(gate, damp_prob):\n",
    "    \"\"\"\n",
    "    Generate the Kraus operators corresponding to a given unitary\n",
    "    single qubit gate followed by an amplitude damping noise channel.\n",
    "\n",
    "    :params np.ndarray|list gate: The 2x2 unitary gate matrix.\n",
    "    :params float damp_prob: The one-step damping probability.\n",
    "    :return: A list [k1, k2] of the Kraus operators that parametrize the map.\n",
    "    :rtype: list\n",
    "    \"\"\"\n",
    "    return append_kraus_to_gate(damping_channel(damp_prob), gate)\n",
    "\n",
    "\n",
    "# Dephasing noise model\n",
    "def dephasing_kraus_map(p=.1):\n",
    "    \"\"\"\n",
    "    Generate the Kraus operators corresponding to a dephasing channel.\n",
    "\n",
    "    :params float p: The one-step dephasing probability.\n",
    "    :return: A list [k1, k2] of the Kraus operators that parametrize the map.\n",
    "    :rtype: list\n",
    "    \"\"\"\n",
    "    return [np.sqrt(1-p)*np.eye(2), np.sqrt(p)*np.diag([1, -1])]\n",
    "\n",
    "def tensor_kraus_maps(k1, k2):\n",
    "    \"\"\"\n",
    "    Generate the Kraus map corresponding to the composition\n",
    "    of two maps on different qubits.\n",
    "\n",
    "    :param list k1: The Kraus operators for the first qubit.\n",
    "    :param list k2: The Kraus operators for the second qubit.\n",
    "    :return: A list of tensored Kraus operators.\n",
    "    \"\"\"\n",
    "    return [np.kron(k1j, k2l) for k1j in k1 for k2l in k2]\n"
   ]
  },
  {
   "cell_type": "code",
   "execution_count": 148,
   "metadata": {},
   "outputs": [],
   "source": [
    "# Combined circuit for creating and projecting 3-level states\n",
    "def circuit_123_noisy(a, b, p, pmeas_1, pmeas_2, damping_per_I):\n",
    "    circ = Program()\n",
    "    \n",
    "    theta = circ.declare('theta', 'REAL', 2)\n",
    "    phi = circ.declare('phi', 'REAL', 2)\n",
    "    t = circ.declare('t', 'REAL', 2)\n",
    "    c = circ.declare('ro', 'BIT', 2)\n",
    "    \n",
    "    corrupted_CZ = append_kraus_to_gate(\n",
    "    tensor_kraus_maps(\n",
    "        dephasing_kraus_map(p),\n",
    "        dephasing_kraus_map(p)\n",
    "    ),\n",
    "    np.diag([1, 1, 1, -1]))\n",
    "    \n",
    "    circ.define_noisy_gate(\"CZ\", [a, b], corrupted_CZ)\n",
    "    \n",
    "    circ.define_noisy_readout(a, p00=pmeas_1[0], p11=pmeas_1[1])\n",
    "    circ.define_noisy_readout(b, p00=pmeas_2[0], p11=pmeas_2[1])\n",
    "    \n",
    "    circ.define_noisy_gate(\"I\", [a], append_damping_to_gate(np.eye(2), damping_per_I))\n",
    "    circ.define_noisy_gate(\"I\", [b], append_damping_to_gate(np.eye(2), damping_per_I))\n",
    "    \n",
    "    circ += RY(theta[0], a)\n",
    "    circ += RZ(phi[0], a)\n",
    "    \n",
    "    circ += RY(theta[1], b)\n",
    "    circ += RZ(phi[1]/2, b)\n",
    "    \n",
    "    circ += CNOT(a, b)\n",
    "    \n",
    "    circ += RZ(-phi[1]/2, b)\n",
    "    circ += RY((t[1]-theta[1])/2, b)\n",
    "    \n",
    "    circ += CNOT(a,b)\n",
    "    \n",
    "    circ += RY((-theta[1] - t[1])/2, b)\n",
    "    \n",
    "    circ += RY(-t[0], a)\n",
    "    \n",
    "    circ += X(a)\n",
    "    \n",
    "    circ += I(a)\n",
    "    circ += I(b)\n",
    "    \n",
    "    circ += MEASURE(a, c[0])\n",
    "    circ += MEASURE(b, c[1])\n",
    "    \n",
    "    circ.wrap_in_numshots_loop(N_SHOTS)\n",
    "    \n",
    "    return circ"
   ]
  },
  {
   "cell_type": "code",
   "execution_count": 185,
   "metadata": {},
   "outputs": [
    {
     "name": "stdout",
     "output_type": "stream",
     "text": [
      "21 36\n",
      "2q-qvm\n"
     ]
    }
   ],
   "source": [
    "# Details of circuit-run\n",
    "q1, q2 = good_qubits['Qubit1'].id, good_qubits['Qubit2'].id # Qubit IDs\n",
    "print(q1,q2)\n",
    "\n",
    "deph_damp = 1-good_qubits['Edge'].gates[0].fidelity\n",
    "pmeas_1 = [good_qubits['Qubit1'].gates[0].fidelity, good_qubits['Qubit1'].gates[0].fidelity]\n",
    "pmeas_2 = [good_qubits['Qubit2'].gates[0].fidelity, good_qubits['Qubit2'].gates[0].fidelity]\n",
    "\n",
    "\n",
    "# Details of the device on which to run the circuit\n",
    "engine = 'noisy-2q-qvm' # Choosing between simulator and Aspen-9 computer\n",
    "qc = get_qc('2q-qvm') # Initialising the device\n",
    "print(qc) # Display device details\n",
    "circ = circuit_123_noisy(q1,q2, deph_damp, pmeas_1, pmeas_2, 0.5)\n",
    "exe = qc.compile(circ)"
   ]
  },
  {
   "cell_type": "code",
   "execution_count": 184,
   "metadata": {},
   "outputs": [],
   "source": [
    "# with open('state_params_3_with_aspen_and_noise_amp_0.4.pkl', 'wb') as file:\n",
    "#     pickle.dump((good_bits, states), file)"
   ]
  },
  {
   "cell_type": "code",
   "execution_count": 190,
   "metadata": {},
   "outputs": [
    {
     "data": {
      "image/png": "[encoded data removed]",
      "text/plain": [
       "<Figure size 432x288 with 1 Axes>"
      ]
     },
     "metadata": {
      "needs_background": "light"
     },
     "output_type": "display_data"
    },
    {
     "data": {
      "image/png": "[encoded data removed]",
      "text/plain": [
       "<Figure size 432x288 with 1 Axes>"
      ]
     },
     "metadata": {
      "needs_background": "light"
     },
     "output_type": "display_data"
    },
    {
     "data": {
      "image/png": "[encoded data removed]",
      "text/plain": [
       "<Figure size 432x288 with 1 Axes>"
      ]
     },
     "metadata": {
      "needs_background": "light"
     },
     "output_type": "display_data"
    },
    {
     "data": {
      "image/png": "[encoded data removed]",
      "text/plain": [
       "<Figure size 432x288 with 1 Axes>"
      ]
     },
     "metadata": {
      "needs_background": "light"
     },
     "output_type": "display_data"
    },
    {
     "data": {
      "image/png": "[encoded data removed]",
      "text/plain": [
       "<Figure size 432x288 with 1 Axes>"
      ]
     },
     "metadata": {
      "needs_background": "light"
     },
     "output_type": "display_data"
    }
   ],
   "source": [
    "for i in np.arange(0.1, 0.6, 0.1):\n",
    "    with open(f'state_params_3_with_aspen_and_noise_amp_{np.round(i,1)}.pkl', 'rb') as file:\n",
    "        gb, st = pickle.load(file)\n",
    "    \n",
    "    kth = np.array([states[i]['Theory']['k'] for i in range(len(states))])\n",
    "    kthci = np.array([states[i]['Theory']['ci'] for i in range(len(states))])\n",
    "\n",
    "    k2q = np.array([states[i]['2q-qvm']['k']['val'] for i in range(len(states))])\n",
    "    # k2qci = np.array([states[i]['2q-qvm']['k']['ci'] for i in range(len(states))])\n",
    "\n",
    "    kas = np.array([states[i]['Aspen-9']['k']['val'] for i in range(len(states))])\n",
    "    # kasci = np.array([states[i]['Aspen-9']['k']['ci'] for i in range(len(states))])\n",
    "\n",
    "    knq = np.array([states[i]['noisy-2q-qvm']['k']['val'] for i in range(len(states))])\n",
    "    knqci = np.array([states[i]['noisy-2q-qvm']['k']['ci'] for i in range(len(states))])\n",
    "\n",
    "    x = np.arange(len(states))\n",
    "\n",
    "    plt.errorbar(x, kth, yerr=[kth - kthci[:,0], kthci[:,1] - kth], ls='', capsize=4)\n",
    "    # plt.errorbar(x, k2q, yerr=[k2q - k2qci[:,0], k2qci[:,1] - k2q], marker='o', ls='', capsize=4)\n",
    "    # plt.errorbar(x, kas, yerr=[kas - kasci[:,0], kasci[:,1] - kas], marker='o', ls='', capsize=4)\n",
    "    plt.errorbar(x, knq, yerr=[knq - knqci[:,0], knqci[:,1] - knq], marker='o', ls='', capsize=4)\n",
    "    plt.plot(x, k2q, 'o')\n",
    "    plt.plot(x, kas, 'o')\n",
    "\n",
    "    plt.axhline(y=0, ls='dashed', color='red')\n",
    "    plt.xticks([])\n",
    "    # plt.plot(x, k2q, 'o')\n",
    "\n",
    "\n",
    "    plt.show()\n"
   ]
  },
  {
   "cell_type": "code",
   "execution_count": 206,
   "metadata": {},
   "outputs": [],
   "source": [
    "# with open('state_params_3_with_aspen_and_noise_amp_0.5.pkl', 'rb') as file:\n",
    "#     good_qubits, states = pickle.load(file)"
   ]
  }
 ],
 "metadata": {
  "kernelspec": {
   "display_name": "Python 3",
   "language": "python",
   "name": "python3"
  },
  "language_info": {
   "codemirror_mode": {
    "name": "ipython",
    "version": 3
   },
   "file_extension": ".py",
   "mimetype": "text/x-python",
   "name": "python",
   "nbconvert_exporter": "python",
   "pygments_lexer": "ipython3",
   "version": "3.8.6"
  }
 },
 "nbformat": 4,
 "nbformat_minor": 4
}
